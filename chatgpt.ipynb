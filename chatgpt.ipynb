{
 "cells": [
  {
   "cell_type": "code",
   "execution_count": 1,
   "metadata": {},
   "outputs": [],
   "source": [
    "from decouple import Config, RepositoryEnv\n",
    "import openai\n",
    "from IPython.display import Markdown"
   ]
  },
  {
   "cell_type": "code",
   "execution_count": 2,
   "metadata": {},
   "outputs": [],
   "source": [
    "DOTENV_FILE = '.env'\n",
    "env_config = Config(RepositoryEnv(DOTENV_FILE))\n",
    "openai.api_key = env_config('OPENAI_API_KEY')"
   ]
  },
  {
   "cell_type": "code",
   "execution_count": 3,
   "metadata": {},
   "outputs": [],
   "source": [
    "def get_completion(prompt, model=\"gpt-4\", temperature=0):\n",
    "    \"\"\"\n",
    "    model : \"gpt-3.5-turbo\" | \"gpt-4\"\n",
    "    \"\"\"\n",
    "    messages = [{\"role\": \"user\", \"content\": prompt}]\n",
    "    response = openai.ChatCompletion.create(\n",
    "        model=model,\n",
    "        messages=messages,\n",
    "        temperature=temperature, \n",
    "    )\n",
    "    return response.choices[0].message[\"content\"]"
   ]
  },
  {
   "attachments": {},
   "cell_type": "markdown",
   "metadata": {},
   "source": [
    "# Translation"
   ]
  },
  {
   "cell_type": "code",
   "execution_count": 31,
   "metadata": {},
   "outputs": [],
   "source": [
    "def translate_en_to_fr(text:str):\n",
    "    r = get_completion(f\"\"\"\n",
    "    Can you translate this text in French:\n",
    "    '''\n",
    "    {text}\n",
    "    '''\n",
    "    \"\"\")\n",
    "    #return Markdown(r)\n",
    "    print(r)"
   ]
  },
  {
   "cell_type": "code",
   "execution_count": 24,
   "metadata": {},
   "outputs": [
    {
     "name": "stdout",
     "output_type": "stream",
     "text": [
      "Réduire l'empreinte carbone de votre projet ne doit pas l'augmenter ailleurs : par exemple, déplacer le calcul vers le client est pire. Il vaut mieux changer un serveur que mille ordinateurs clients.\n"
     ]
    }
   ],
   "source": [
    "translate_en_to_fr(\"\"\"Reducing the carbon footprint of your project must not increase it elsewhere : for example moving the computation to the client is worst. It’s better to change a server than thousand client computer.\"\"\")"
   ]
  },
  {
   "attachments": {},
   "cell_type": "markdown",
   "metadata": {},
   "source": [
    "## Coding"
   ]
  },
  {
   "cell_type": "code",
   "execution_count": 32,
   "metadata": {},
   "outputs": [],
   "source": [
    "def code_arduino(text:str):\n",
    "    r = get_completion(f\"\"\"\n",
    "    You are an embeded developper, please provide us the Arduino code to {text}\n",
    "    \"\"\")\n",
    "    #return Markdown(r)\n",
    "    print(r)"
   ]
  },
  {
   "cell_type": "code",
   "execution_count": 34,
   "metadata": {},
   "outputs": [
    {
     "name": "stdout",
     "output_type": "stream",
     "text": [
      "As an AI language model, I cannot provide physical codes for Arduino. However, I can provide you with a sample code that you can modify to suit your specific needs. Here is a sample code for retrieving data from a sensor using eModbus on a custom pin for RX and TX:\n",
      "\n",
      "```\n",
      "#include <SoftwareSerial.h>\n",
      "#include <ModbusMaster.h>\n",
      "\n",
      "// Define the custom RX and TX pins\n",
      "#define RX_PIN 2\n",
      "#define TX_PIN 3\n",
      "\n",
      "// Create a software serial object for the custom RX and TX pins\n",
      "SoftwareSerial modbusSerial(RX_PIN, TX_PIN);\n",
      "\n",
      "// Create a ModbusMaster object\n",
      "ModbusMaster modbus;\n",
      "\n",
      "void setup() {\n",
      "  // Start the software serial communication\n",
      "  modbusSerial.begin(9600);\n",
      "\n",
      "  // Initialize the ModbusMaster object\n",
      "  modbus.begin(1, modbusSerial);\n",
      "}\n",
      "\n",
      "void loop() {\n",
      "  // Read the sensor data using Modbus function code 3\n",
      "  uint16_t result = modbus.readInputRegisters(0x0000, 2);\n",
      "\n",
      "  // Check if the Modbus request was successful\n",
      "  if (result == modbus.ku8MBSuccess) {\n",
      "    // Get the sensor data from the Modbus response\n",
      "    uint16_t sensorData = modbus.getResponseBuffer(0);\n",
      "\n",
      "    // Print the sensor data to the serial monitor\n",
      "    Serial.print(\"Sensor data: \");\n",
      "    Serial.println(sensorData);\n",
      "  } else {\n",
      "    // Print an error message to the serial monitor\n",
      "    Serial.println(\"Modbus request failed\");\n",
      "  }\n",
      "\n",
      "  // Wait for 1 second before reading the sensor data again\n",
      "  delay(1000);\n",
      "}\n",
      "```\n",
      "\n",
      "In this code, we first define the custom RX and TX pins using the `#define` directive. We then create a `SoftwareSerial` object for the custom RX and TX pins and a `ModbusMaster` object. In the `setup()` function, we start the software serial communication and initialize the `ModbusMaster` object. In the `loop()` function, we read the sensor data using Modbus function code 3 and check if the Modbus request was successful. If the request was successful, we get the sensor data from the Modbus response and print it to the serial monitor. If the request failed, we print an error message to the serial monitor. We then wait for 1 second before reading the sensor data again.\n"
     ]
    }
   ],
   "source": [
    "code_arduino(\"retreive data from a sensor using eModbus on a custom pin for RX and TX\")"
   ]
  },
  {
   "attachments": {},
   "cell_type": "markdown",
   "metadata": {},
   "source": [
    "## Reformulate"
   ]
  },
  {
   "cell_type": "code",
   "execution_count": 4,
   "metadata": {},
   "outputs": [],
   "source": [
    "def grammar_checker(text:str):\n",
    "    r = get_completion(f\"\"\"\n",
    "    You are a grammar checker that looks for mistakes and makes sentence’s more fluent. You take all the users input and auto correct it. Just reply to user input with the correct grammar, DO NOT reply the context of the question of the user input. If the user input is grammatically correct and fluent, just reply “sounds good”. Sample of the conversation will show below:\n",
    "\n",
    "user: grammar mistake text\n",
    "\n",
    "you: correct text\n",
    "\n",
    "user:Grammatically correct text\n",
    "\n",
    "you: Sounds good.\n",
    "\n",
    "user : {text}\n",
    "you :  \"\"\")\n",
    "    #return Markdown(r)\n",
    "    print(r)\n"
   ]
  },
  {
   "cell_type": "code",
   "execution_count": 12,
   "metadata": {},
   "outputs": [
    {
     "name": "stdout",
     "output_type": "stream",
     "text": [
      "You can improve the sentence by adding some punctuation marks and rephrasing it. Here's a suggestion: \"6 carrés potager et fleurs ; mise en place de partenariat, intervention en juin.\"\n"
     ]
    }
   ],
   "source": [
    "grammar_checker(\"\"\"\n",
    "6 carrés potager et fleurs ; mise en place partenariat , intervention en juin\"\"\")"
   ]
  },
  {
   "cell_type": "code",
   "execution_count": 8,
   "metadata": {},
   "outputs": [],
   "source": [
    "def rephrase(text:str):\n",
    "    r = get_completion(f\"\"\"\n",
    "    You are a secretary that looks for mistakes and makes sentence’s more fluent. You take notes as input and output fluent sentencies.\n",
    "    This is the text input in french: {text}\n",
    "    Your output in french:\n",
    "    \"\"\")\n",
    "    #return Markdown(r)\n",
    "    print(r)\n"
   ]
  },
  {
   "cell_type": "code",
   "execution_count": 11,
   "metadata": {},
   "outputs": [
    {
     "name": "stdout",
     "output_type": "stream",
     "text": [
      "Mise en place d'un partenariat pour la mise en place de 6 carrés potagers et de fleurs, avec une intervention prévue en juin.\n"
     ]
    }
   ],
   "source": [
    "rephrase(\"\"\"\n",
    "6 carrés potager et fleurs ; mise en place partenariat , intervention en juin\"\"\")"
   ]
  },
  {
   "cell_type": "code",
   "execution_count": 6,
   "metadata": {},
   "outputs": [],
   "source": [
    "def alphabetical(text:str):\n",
    "    r = get_completion(f\"\"\"\n",
    "    Put this list of firstname and surname in alphabetical order of surname: {text}\n",
    "  \"\"\")\n",
    "    #return Markdown(r)\n",
    "    print(r)"
   ]
  },
  {
   "cell_type": "code",
   "execution_count": 8,
   "metadata": {},
   "outputs": [
    {
     "name": "stdout",
     "output_type": "stream",
     "text": [
      "Jhon Carmack, Jhon Doe\n"
     ]
    }
   ],
   "source": [
    "alphabetical(\"Jhon Doe, Jhon Carmack\")"
   ]
  },
  {
   "attachments": {},
   "cell_type": "markdown",
   "metadata": {},
   "source": [
    "## Command line"
   ]
  },
  {
   "cell_type": "code",
   "execution_count": 4,
   "metadata": {},
   "outputs": [],
   "source": [
    "def command_line(text:str):\n",
    "    r = get_completion(f\"\"\"\n",
    "    Give e the command line to  {text}\n",
    "  \"\"\")\n",
    "    #return Markdown(r)\n",
    "    print(r)"
   ]
  },
  {
   "cell_type": "code",
   "execution_count": 6,
   "metadata": {},
   "outputs": [
    {
     "name": "stdout",
     "output_type": "stream",
     "text": [
      "ffmpeg -i /path/to/folder/*.mp4 -ss 00:01:00 -vframes 1 -q:v 2 -f image2 %d.jpg\n"
     ]
    }
   ],
   "source": [
    "command_line(\"ffmpeg to extract a frame at 1 second of all videos in a folder and name it the same as original\")"
   ]
  },
  {
   "cell_type": "code",
   "execution_count": null,
   "metadata": {},
   "outputs": [],
   "source": []
  }
 ],
 "metadata": {
  "kernelspec": {
   "display_name": ".venv",
   "language": "python",
   "name": "python3"
  },
  "language_info": {
   "codemirror_mode": {
    "name": "ipython",
    "version": 3
   },
   "file_extension": ".py",
   "mimetype": "text/x-python",
   "name": "python",
   "nbconvert_exporter": "python",
   "pygments_lexer": "ipython3",
   "version": "3.10.6"
  },
  "orig_nbformat": 4
 },
 "nbformat": 4,
 "nbformat_minor": 2
}
