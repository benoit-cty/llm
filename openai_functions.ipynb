{
 "cells": [
  {
   "cell_type": "markdown",
   "metadata": {},
   "source": [
    "# Test des fonctions de l'API OpenAI avec OpenFisca\n",
    "\n",
    "Ce notebook permet de :\n",
    "- Receuillir une demande de réforme exprimée en langage naturel : _Je souhaite réduire de 10% la CSG imposable pour les personnes qui travaillent._\n",
    "- Demander à OpenAI de l'exprimer en terme de modification de paramètre OpenFisca, grâce aux _Functions_ d'OpenAI. Pour cela une liste de paramètres est envoyé en plus de l'entrée de l'utilisateur et d'un schéma de la réponse attendue.\n",
    "- Réaliser un chiffrage de la réforme à l'aide d'une API, ici celle de LexImpact, mais cela pourrait être l'API publique d'OpenFisca sur un cas type.\n",
    "- Mettre sous forme d'amendement le résultat du chiffrage en appelant OpenAI.\n",
    "\n",
    "## Installation\n",
    "\n",
    "\n",
    "Il faut créer un fichier .env avec les informations suivantes :\n",
    "```\n",
    "OPENAI_API_KEY=xxxx Clef OpenAI\n",
    "LEX_API_URL=https://xxxx Adresse API Simu-Etat de LexImpact\n",
    "LEX_TOKEN=xxxxx Token API Simu-Etat de LexImpact\n",
    "```\n",
    "\n",
    "Les dépendances sont les suivantes :\n",
    "\n",
    "```\n",
    "pip install openai python-decouple ipykernel ipywidgets\n",
    "python -m ipykernel install --name llm-kernel --user\n",
    "```\n",
    "\n",
    "Lancement avec Voilà pour en faire une application Web interactive :\n",
    "\n",
    "`voila --Voila.ip='0.0.0.0' --Voila.base_url=/voila/ --no-browser`\n",
    "\n",
    "## Exemple de réponse\n",
    "\n",
    "```\n",
    "AMENDEMENT\n",
    "\n",
    "A l’article [insérer le numéro de l'article], après le [indiquer le point, l'alinéa ou le paragraphe] insérer le paragraphe suivant :\n",
    "\n",
    "« Le taux déductible de la contribution sociale généralisée (CSG) déductible sur les revenus d'activité est réduit de 5% pour atteindre 6,46%. Le taux de la contribution sociale généralisée (CSG) imposable sur les revenus d'activité est réduit de 10% pour atteindre 2,16%. »\n",
    "\n",
    "EXPOSÉ DES MOTIFS\n",
    "\n",
    "Cet amendement vise à alléger la pression fiscale sur les revenus d'activité en réduisant le taux de la CSG déductible et le taux de la CSG imposable.\n",
    "\n",
    "En effet, le taux de la CSG déductible sur les revenus d'activité passera de 6,8% à 6,46% et le taux de la CSG imposable sur les revenus d'activité sera réduit de 2,4% à 2,16%.\n",
    "\n",
    "Ces mesures permettront d'augmenter le pouvoir d'achat des travailleurs et de stimuler l'économie.\n",
    "\n",
    "Concernant l'impact sur les finances publiques, avant la réforme, le montant de la CSG déductible sur les salaires s'élevait à -64 304 294 891,98 euros et celui de la CSG imposable à -22 695 633 461,51 euros. Après l'application du Projet de Loi de Finances proposé par le gouvernement, ces montants resteraient inchangés.\n",
    "\n",
    "Cependant, avec l'adoption de cet amendement, le montant de la CSG déductible sur les salaires serait de -61 089 080 024,71 euros et celui de la CSG imposable de -20 426 070 169,84 euros.\n",
    "\n",
    "Il est donc nécessaire de trouver des moyens de compenser cette perte de revenus pour l'Etat, tout en soulageant la pression fiscale sur les travailleurs.\n",
    "\n",
    "```"
   ]
  },
  {
   "cell_type": "code",
   "execution_count": 2,
   "metadata": {
    "tags": []
   },
   "outputs": [],
   "source": [
    "from decouple import Config, RepositoryEnv\n",
    "import openai\n",
    "import json\n",
    "from IPython.display import Markdown\n",
    "import requests\n",
    "from ipywidgets import interact\n",
    "import ipywidgets as widgets\n",
    "from IPython.display import display"
   ]
  },
  {
   "cell_type": "code",
   "execution_count": 3,
   "metadata": {
    "tags": []
   },
   "outputs": [],
   "source": [
    "DOTENV_FILE = '.env'\n",
    "env_config = Config(RepositoryEnv(DOTENV_FILE))\n",
    "openai.api_key = env_config('OPENAI_API_KEY')"
   ]
  },
  {
   "cell_type": "code",
   "execution_count": 4,
   "metadata": {
    "tags": []
   },
   "outputs": [],
   "source": [
    "# Définition de la fonction\n",
    "generate_tax_reform = [\n",
    "    {\n",
    "        'name': 'generate_tax_reform',\n",
    "        'description': \"\"\"Generate a tax reform proposal using OpenFisca Parameters.\n",
    "\n",
    "        \"\"\",\n",
    "        'parameters': {\n",
    "            'type': 'object',\n",
    "            'properties': {\n",
    "                'Reform description': {\n",
    "                    'type': 'string',\n",
    "                    'description': 'Description of the reform to generate.'\n",
    "                },\n",
    "                'parameters_change': {\n",
    "                    \n",
    "                    \"type\": \"array\",\n",
    "                    \"items\": {\n",
    "                        'type': 'object',\n",
    "                        'properties':\n",
    "                        {\n",
    "                            'parameter_description': {\n",
    "                                'type': 'string',\n",
    "                                'description': 'Description of the parameter to change.'\n",
    "                            },\n",
    "                            'parameter_name': {\n",
    "                                'type': 'string',\n",
    "                                'description': 'OpenFisca parameter name.'\n",
    "                            },\n",
    "                            'value': {\n",
    "                                'type': 'string',\n",
    "                                'description': 'New value of the parameter. Must be a unique value, not a mathematical operation.'\n",
    "                            },\n",
    "                        },\n",
    "                    }\n",
    "                }\n",
    "            }\n",
    "        }\n",
    "    }\n",
    "]"
   ]
  },
  {
   "cell_type": "code",
   "execution_count": 5,
   "metadata": {
    "tags": []
   },
   "outputs": [],
   "source": [
    "# Préparation du prompt\n",
    "# reforme_en_francais = \"Je souhaite réduire de 10% la CSG imposable pour les personnes qui travail et de 5% la CSG déductible.\"\n",
    "\n",
    "def get_prompt(reforme_en_francais):\n",
    "    return f\"\"\"\n",
    "You are an lawer at french national assembly. You are asked to reform the CSG taxes by a deputy.\n",
    "You can change the following parameters in the law:\n",
    "For the \"Taux déductible de la contribution sociale généralisée (CSG) déductible sur les revenus d'activité\" the OpenFisca parameter name is \"prelevements_sociaux.contributions_sociales.csg.activite.deductible.taux\" and the default value is 0.068\n",
    "For the \"Taux de la contribution sociale généralisée (CSG) imposable sur les revenus d'activité\" the OpenFisca parameter name is \"prelevements_sociaux.contributions_sociales.csg.activite.imposable.taux\" and the default value is 0.024\n",
    "Here is what the deputy said:\n",
    "{reforme_en_francais}\n",
    "\"\"\"\n"
   ]
  },
  {
   "cell_type": "code",
   "execution_count": 6,
   "metadata": {
    "tags": []
   },
   "outputs": [],
   "source": [
    "# Appel de l'API OpenAI Functions\n",
    "def call_openai_function(prompt):\n",
    "    reforms = [prompt]\n",
    "    for sample in reforms:\n",
    "        response = openai.ChatCompletion.create(\n",
    "            model = 'gpt-4',  # gpt-3.5-turbo',\n",
    "            messages = [{'role': 'user', 'content': sample}],\n",
    "            functions = generate_tax_reform,\n",
    "            function_call = 'auto'\n",
    "        )\n",
    "\n",
    "        # Loading the response as a JSON object\n",
    "        json_response = json.loads(response['choices'][0]['message']['function_call']['arguments'])\n",
    "        # print(json_response)\n",
    "        return json_response"
   ]
  },
  {
   "cell_type": "code",
   "execution_count": 7,
   "metadata": {
    "tags": []
   },
   "outputs": [],
   "source": [
    "# Appel de l'API LexImpact\n",
    "def get_leximpact_payload(openai_response):\n",
    "    api_payload = {\n",
    "        \"amendement\": {},\n",
    "        \"base\": 2024,\n",
    "        \"plf\": 2024,\n",
    "        \"output_variables\": [\n",
    "            \"csg_deductible_salaire\",\n",
    "            \"csg_imposable_salaire\"\n",
    "        ],\n",
    "    }\n",
    "    for reform in openai_response[\"parameters_change\"]:\n",
    "        api_payload['amendement'][reform[\"parameter_name\"]]= {\n",
    "            \"start\": \"2024-01-01\",\n",
    "            \"type\": \"parameter\",\n",
    "            \"variable\": \"csg_salaire\",\n",
    "            \"value\": float(reform[\"value\"])\n",
    "        }\n",
    "    return api_payload\n",
    "\n",
    "# api_payload"
   ]
  },
  {
   "cell_type": "code",
   "execution_count": 8,
   "metadata": {
    "tags": []
   },
   "outputs": [],
   "source": [
    "# Appel de l'API LexImpact\n",
    "def call_leximpact(api_payload):\n",
    "    url = env_config('LEX_API_URL') + \"/state_simulation\"\n",
    "    headers = {'Content-Type': 'application/json','jwt-token': env_config('LEX_TOKEN')}\n",
    "    api_response = requests.post(url, headers=headers, data=json.dumps(api_payload))\n",
    "    return api_response\n",
    "# response.json()"
   ]
  },
  {
   "cell_type": "code",
   "execution_count": 9,
   "metadata": {
    "tags": []
   },
   "outputs": [],
   "source": [
    "# Rédaction de l'amendement\n",
    "def get_completion(prompt, model=\"gpt-4\", temperature=0):\n",
    "    \"\"\"\n",
    "    model : \"gpt-3.5-turbo\" | \"gpt-4\"\n",
    "    \"\"\"\n",
    "    messages = [{\"role\": \"user\", \"content\": prompt}]\n",
    "    response = openai.ChatCompletion.create(\n",
    "        model=model,\n",
    "        messages=messages,\n",
    "        temperature=temperature, \n",
    "    )\n",
    "    return response.choices[0].message[\"content\"]"
   ]
  },
  {
   "cell_type": "code",
   "execution_count": 10,
   "metadata": {
    "tags": []
   },
   "outputs": [],
   "source": [
    "def prepare_response_prompt(openai_response, api_response):\n",
    "    return f\"\"\"\n",
    "Vous êtes un député à l'assemblée nationale. Vous êtes chargé de réformer la CSG.\n",
    "Votre assistant informaticien vous a préparé un amendement que vous pouvez déposer à l'assemblée nationale.\n",
    "Le Taux déductible de la contribution sociale généralisée (CSG) déductible sur les revenus d'activité\" est actuellement de 6,8%.\n",
    "Le Taux de la contribution sociale généralisée (CSG) imposable sur les revenus d'activité correspond à 2,4% du salaire brut.\n",
    "\n",
    "Voici le contenu de l'amendement en JSON :\n",
    "{openai_response}\n",
    "\n",
    "Voici son impact sur les finances publiques qui doit être mentionné dans l'exposé des motifs de l'amendement :\n",
    "- Montant en euro avant réforme : {api_response.json()['result']['base']['state_budget']}\n",
    "- Le montant en euro après application du Projet de Loi de Finances proposé par le gouvernement : {api_response.json()['result']['plf']['state_budget']} \n",
    "- Le montant après votre amendement : {api_response.json()['result']['amendement']['state_budget']}\n",
    "\n",
    "Vous devez rédiger l'amendement en français.\n",
    "\"\"\"\n"
   ]
  },
  {
   "cell_type": "code",
   "execution_count": 11,
   "metadata": {
    "tags": []
   },
   "outputs": [
    {
     "data": {
      "application/vnd.jupyter.widget-view+json": {
       "model_id": "fc2dc272082844f7afef6007b36a2be0",
       "version_major": 2,
       "version_minor": 0
      },
      "text/plain": [
       "Textarea(value='Je souhaite réduire de 10% la CSG imposable pour les personnes qui travaillent et de 5% la CSG…"
      ]
     },
     "metadata": {},
     "output_type": "display_data"
    }
   ],
   "source": [
    "text_input = widgets.Textarea(\n",
    "    value='Je souhaite réduire de 10% la CSG imposable pour les personnes qui travaillent et de 5% la CSG déductible.',\n",
    "    placeholder='Décrivez votre réforme',\n",
    "    description='Description de votre amendement : ',\n",
    "    disabled=False,\n",
    "    layout={'height': '100px', 'width': '500px'}\n",
    ")\n",
    "reforme_en_francais = text_input.value\n",
    "display(text_input)"
   ]
  },
  {
   "cell_type": "code",
   "execution_count": 12,
   "metadata": {
    "tags": []
   },
   "outputs": [
    {
     "data": {
      "application/vnd.jupyter.widget-view+json": {
       "model_id": "74e153c8a593474a8ce3ae9a7dae3095",
       "version_major": 2,
       "version_minor": 0
      },
      "text/plain": [
       "Button(description='Chiffrer et rédiger', style=ButtonStyle())"
      ]
     },
     "metadata": {},
     "output_type": "display_data"
    },
    {
     "data": {
      "application/vnd.jupyter.widget-view+json": {
       "model_id": "69efe7a0491940e2b667633dec070826",
       "version_major": 2,
       "version_minor": 0
      },
      "text/plain": [
       "Output()"
      ]
     },
     "metadata": {},
     "output_type": "display_data"
    }
   ],
   "source": [
    "button = widgets.Button(description=\"Chiffrer et rédiger\")\n",
    "output = widgets.Output()\n",
    "\n",
    "display(button, output)\n",
    "def on_button_clicked(b):\n",
    "    with output:\n",
    "        print(\"Conversion de la réforme en format OpenFisca...\")\n",
    "    reforme_en_francais = text_input.value\n",
    "    prompt = get_prompt(reforme_en_francais)\n",
    "    openai_response = call_openai_function(prompt)\n",
    "    with output:\n",
    "        print(\"Chiffrage de la réforme...\")\n",
    "    api_payload = get_leximpact_payload(openai_response)\n",
    "    api_response = call_leximpact(api_payload)\n",
    "    with output:\n",
    "        print(\"Rédaction de l'amendement...\")\n",
    "    response_prompt = prepare_response_prompt(openai_response, api_response)\n",
    "    # Markdown(response_prompt)\n",
    "\n",
    "    amendement = get_completion(response_prompt, model=\"gpt-4\", temperature=0.5)\n",
    "    with output:\n",
    "        print(\"Rédaction de l'amendement... Terminé\")\n",
    "        display(Markdown(amendement))\n",
    "    display(Markdown(amendement))\n",
    "    return Markdown(amendement)\n",
    "\n",
    "button.on_click(on_button_clicked)"
   ]
  },
  {
   "cell_type": "code",
   "execution_count": null,
   "metadata": {
    "tags": []
   },
   "outputs": [],
   "source": [
    "# print(\"Conversion de la réforme en format OpenFisca...\")\n",
    "# reforme_en_francais = text_input.value\n",
    "# prompt = get_prompt(reforme_en_francais)\n",
    "# openai_response = call_openai_function(prompt)\n",
    "# print(\"Chiffrage de la réforme...\")\n",
    "# api_payload = get_leximpact_payload(openai_response)\n",
    "# api_response = call_leximpact(api_payload)\n",
    "# print(\"Rédaction de l'amendement...\")\n",
    "# response_prompt = prepare_response_prompt(openai_response, api_response)\n",
    "# # Markdown(response_prompt)\n",
    "\n",
    "# amendement = get_completion(response_prompt, model=\"gpt-4\", temperature=0.5)\n",
    "# display(Markdown(amendement))"
   ]
  },
  {
   "cell_type": "code",
   "execution_count": null,
   "metadata": {},
   "outputs": [],
   "source": []
  }
 ],
 "metadata": {
  "kernelspec": {
   "display_name": "llm-kernel",
   "language": "python",
   "name": "llm-kernel"
  },
  "language_info": {
   "codemirror_mode": {
    "name": "ipython",
    "version": 3
   },
   "file_extension": ".py",
   "mimetype": "text/x-python",
   "name": "python",
   "nbconvert_exporter": "python",
   "pygments_lexer": "ipython3",
   "version": "3.9.2"
  }
 },
 "nbformat": 4,
 "nbformat_minor": 4
}
