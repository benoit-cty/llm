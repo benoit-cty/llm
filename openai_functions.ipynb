{
 "cells": [
  {
   "cell_type": "markdown",
   "metadata": {},
   "source": [
    "# Test des fonctions de l'API OpenAI avec OpenFisca"
   ]
  },
  {
   "cell_type": "code",
   "execution_count": 13,
   "metadata": {},
   "outputs": [],
   "source": [
    "from decouple import Config, RepositoryEnv\n",
    "import openai\n",
    "import json\n",
    "from IPython.display import Markdown\n",
    "import requests"
   ]
  },
  {
   "cell_type": "markdown",
   "metadata": {},
   "source": [
    "Lecture de la clef d'API"
   ]
  },
  {
   "cell_type": "code",
   "execution_count": 33,
   "metadata": {},
   "outputs": [],
   "source": [
    "DOTENV_FILE = '.env'\n",
    "env_config = Config(RepositoryEnv(DOTENV_FILE))\n",
    "openai.api_key = env_config('OPENAI_API_KEY')"
   ]
  },
  {
   "cell_type": "markdown",
   "metadata": {},
   "source": [
    "## Définition de la fonction"
   ]
  },
  {
   "cell_type": "code",
   "execution_count": 23,
   "metadata": {},
   "outputs": [],
   "source": [
    "generate_tax_reform = [\n",
    "    {\n",
    "        'name': 'generate_tax_reform',\n",
    "        'description': \"\"\"Generate a tax reform proposal using OpenFisca Parameters.\n",
    "\n",
    "        \"\"\",\n",
    "        'parameters': {\n",
    "            'type': 'object',\n",
    "            'properties': {\n",
    "                'Reform description': {\n",
    "                    'type': 'string',\n",
    "                    'description': 'Description of the reform to generate.'\n",
    "                },\n",
    "                'parameters_change': {\n",
    "                    \n",
    "                    \"type\": \"array\",\n",
    "                    \"items\": {\n",
    "                        'type': 'object',\n",
    "                        'properties':\n",
    "                        {\n",
    "                            'parameter_description': {\n",
    "                                'type': 'string',\n",
    "                                'description': 'Description of the parameter to change.'\n",
    "                            },\n",
    "                            'parameter_name': {\n",
    "                                'type': 'string',\n",
    "                                'description': 'OpenFisca parameter name.'\n",
    "                            },\n",
    "                            'value': {\n",
    "                                'type': 'string',\n",
    "                                'description': 'New value of the parameter. Must be a unique value, not a mathematical operation.'\n",
    "                            },\n",
    "                        },\n",
    "                    }\n",
    "                }\n",
    "            }\n",
    "        }\n",
    "    }\n",
    "]"
   ]
  },
  {
   "cell_type": "markdown",
   "metadata": {},
   "source": [
    "## Préparation du prompt"
   ]
  },
  {
   "cell_type": "code",
   "execution_count": 24,
   "metadata": {},
   "outputs": [],
   "source": [
    "reform1 = \"Je souhaite réduire de 10% la CSG imposable pour les personnes qui travail et de 5% la CSG déductible.\"\n",
    "\n",
    "prompt1 = f\"\"\"\n",
    "You are an lawer at french national assembly. You are asked to reform the CSG taxes by a deputy.\n",
    "You can change the following parameters in the law:\n",
    "For the \"Taux déductible de la contribution sociale généralisée (CSG) déductible sur les revenus d'activité\" the OpenFisca parameter name is \"prelevements_sociaux.contributions_sociales.csg.activite.deductible.taux\" and the default value is 0.068\n",
    "For the \"Taux de la contribution sociale généralisée (CSG) imposable sur les revenus d'activité\" the OpenFisca parameter name is \"prelevements_sociaux.contributions_sociales.csg.activite.imposable.taux\" and the default value is 0.024\n",
    "Here is what the deputy said:\n",
    "{reform1}\n",
    "\"\"\"\n"
   ]
  },
  {
   "cell_type": "markdown",
   "metadata": {},
   "source": [
    "## Appel de l'API OpenAI"
   ]
  },
  {
   "cell_type": "code",
   "execution_count": 28,
   "metadata": {},
   "outputs": [
    {
     "name": "stdout",
     "output_type": "stream",
     "text": [
      "{'Reform description': \"Redesign of CSG taxes as per Deputy's request. CSG imposable reduced by 10% and CSG deductible reduced by 5% for working individuals.\", 'parameters_change': [{'parameter_description': \"Taux déductible de la contribution sociale généralisée (CSG) déductible sur les revenus d'activité\", 'parameter_name': 'prelevements_sociaux.contributions_sociales.csg.activite.deductible.taux', 'value': '0.0646'}, {'parameter_description': \"Taux de la contribution sociale généralisée (CSG) imposable sur les revenus d'activité\", 'parameter_name': 'prelevements_sociaux.contributions_sociales.csg.activite.imposable.taux', 'value': '0.0216'}]}\n"
     ]
    }
   ],
   "source": [
    "reforms = [prompt1]\n",
    "for sample in reforms:\n",
    "    response = openai.ChatCompletion.create(\n",
    "        model = 'gpt-4',  # gpt-3.5-turbo',\n",
    "        messages = [{'role': 'user', 'content': sample}],\n",
    "        functions = generate_tax_reform,\n",
    "        function_call = 'auto'\n",
    "    )\n",
    "\n",
    "    # Loading the response as a JSON object\n",
    "    json_response = json.loads(response['choices'][0]['message']['function_call']['arguments'])\n",
    "    print(json_response)"
   ]
  },
  {
   "cell_type": "code",
   "execution_count": 29,
   "metadata": {},
   "outputs": [
    {
     "data": {
      "text/plain": [
       "{'Reform description': \"Redesign of CSG taxes as per Deputy's request. CSG imposable reduced by 10% and CSG deductible reduced by 5% for working individuals.\",\n",
       " 'parameters_change': [{'parameter_description': \"Taux déductible de la contribution sociale généralisée (CSG) déductible sur les revenus d'activité\",\n",
       "   'parameter_name': 'prelevements_sociaux.contributions_sociales.csg.activite.deductible.taux',\n",
       "   'value': '0.0646'},\n",
       "  {'parameter_description': \"Taux de la contribution sociale généralisée (CSG) imposable sur les revenus d'activité\",\n",
       "   'parameter_name': 'prelevements_sociaux.contributions_sociales.csg.activite.imposable.taux',\n",
       "   'value': '0.0216'}]}"
      ]
     },
     "execution_count": 29,
     "metadata": {},
     "output_type": "execute_result"
    }
   ],
   "source": [
    "json_response"
   ]
  },
  {
   "cell_type": "markdown",
   "metadata": {},
   "source": [
    "## Appel de l'API LexImpact"
   ]
  },
  {
   "cell_type": "code",
   "execution_count": 44,
   "metadata": {},
   "outputs": [
    {
     "data": {
      "text/plain": [
       "{'amendement': {'prelevements_sociaux.contributions_sociales.csg.activite.deductible.taux': {'start': '2024-01-01',\n",
       "   'type': 'parameter',\n",
       "   'variable': 'csg_salaire',\n",
       "   'value': 0.0646},\n",
       "  'prelevements_sociaux.contributions_sociales.csg.activite.imposable.taux': {'start': '2024-01-01',\n",
       "   'type': 'parameter',\n",
       "   'variable': 'csg_salaire',\n",
       "   'value': 0.0216}},\n",
       " 'base': 2024,\n",
       " 'plf': 2024,\n",
       " 'output_variables': ['csg_deductible_salaire', 'csg_imposable_salaire']}"
      ]
     },
     "execution_count": 44,
     "metadata": {},
     "output_type": "execute_result"
    }
   ],
   "source": [
    "api_payload = {\n",
    "    \"amendement\": {},\n",
    "    \"base\": 2024,\n",
    "    \"plf\": 2024,\n",
    "    \"output_variables\": [\n",
    "        \"csg_deductible_salaire\",\n",
    "        \"csg_imposable_salaire\"\n",
    "    ],\n",
    "}\n",
    "for reform in json_response[\"parameters_change\"]:\n",
    "    api_payload['amendement'][reform[\"parameter_name\"]]= {\n",
    "        \"start\": \"2024-01-01\",\n",
    "        \"type\": \"parameter\",\n",
    "        \"variable\": \"csg_salaire\",\n",
    "        \"value\": float(reform[\"value\"])\n",
    "    }\n",
    "api_payload"
   ]
  },
  {
   "cell_type": "code",
   "execution_count": 45,
   "metadata": {},
   "outputs": [
    {
     "data": {
      "text/plain": [
       "{'result': {'base': {'state_budget': {'csg_deductible_salaire': -64304294891.978134,\n",
       "    'csg_imposable_salaire': -22695633461.508907},\n",
       "   'quantiles': None,\n",
       "   'compare_before_after': None},\n",
       "  'plf': {'state_budget': {'csg_deductible_salaire': -64304294891.978134,\n",
       "    'csg_imposable_salaire': -22695633461.508907},\n",
       "   'quantiles': None,\n",
       "   'compare_before_after': None},\n",
       "  'amendement': {'state_budget': {'csg_deductible_salaire': -61089080024.706024,\n",
       "    'csg_imposable_salaire': -20426070169.844734},\n",
       "   'quantiles': None,\n",
       "   'compare_before_after': None}},\n",
       " 'errors': []}"
      ]
     },
     "execution_count": 45,
     "metadata": {},
     "output_type": "execute_result"
    }
   ],
   "source": [
    "url = env_config('LEX_API_URL') + \"/state_simulation\"\n",
    "headers = {'Content-Type': 'application/json','jwt-token': env_config('LEX_TOKEN')}\n",
    "response = requests.post(url, headers=headers, data=json.dumps(api_payload), cookies=cookie)\n",
    "response.json()"
   ]
  },
  {
   "cell_type": "markdown",
   "metadata": {},
   "source": [
    "## Rédaction de l'amendement"
   ]
  },
  {
   "cell_type": "code",
   "execution_count": 38,
   "metadata": {},
   "outputs": [],
   "source": [
    "def get_completion(prompt, model=\"gpt-4\", temperature=0):\n",
    "    \"\"\"\n",
    "    model : \"gpt-3.5-turbo\" | \"gpt-4\"\n",
    "    \"\"\"\n",
    "    messages = [{\"role\": \"user\", \"content\": prompt}]\n",
    "    response = openai.ChatCompletion.create(\n",
    "        model=model,\n",
    "        messages=messages,\n",
    "        temperature=temperature, \n",
    "    )\n",
    "    return response.choices[0].message[\"content\"]"
   ]
  },
  {
   "cell_type": "code",
   "execution_count": 50,
   "metadata": {},
   "outputs": [
    {
     "data": {
      "text/markdown": [
       "\n",
       "Vous êtes un député à l'assemblée nationale. Vous êtes chargé de réformer la CSG.\n",
       "Votre assistant informaticien vous a préparé un amendement que vous pouvez déposer à l'assemblée nationale.\n",
       "Le Taux déductible de la contribution sociale généralisée (CSG) déductible sur les revenus d'activité\" est actuellement de 6,8%.\n",
       "Le Taux de la contribution sociale généralisée (CSG) imposable sur les revenus d'activité correspond à 2,4% du salaire brut.\n",
       "\n",
       "Voici le contenu de l'amendement en JSON :\n",
       "{'Reform description': \"Redesign of CSG taxes as per Deputy's request. CSG imposable reduced by 10% and CSG deductible reduced by 5% for working individuals.\", 'parameters_change': [{'parameter_description': \"Taux déductible de la contribution sociale généralisée (CSG) déductible sur les revenus d'activité\", 'parameter_name': 'prelevements_sociaux.contributions_sociales.csg.activite.deductible.taux', 'value': '0.0646'}, {'parameter_description': \"Taux de la contribution sociale généralisée (CSG) imposable sur les revenus d'activité\", 'parameter_name': 'prelevements_sociaux.contributions_sociales.csg.activite.imposable.taux', 'value': '0.0216'}]}\n",
       "\n",
       "Voici son impact sur les finances publiques qui doit être mentionné dans l'exposé des motifs de l'amendement :\n",
       "- Montant en euro avant réforme : {'csg_deductible_salaire': -64304294891.978134, 'csg_imposable_salaire': -22695633461.508907}\n",
       "- Le montant en euro après application du Projet de Loi de Finances proposé par le gouvernement : {'csg_deductible_salaire': -64304294891.978134, 'csg_imposable_salaire': -22695633461.508907} \n",
       "- Le montant après votre amendement : {'csg_deductible_salaire': -61089080024.706024, 'csg_imposable_salaire': -20426070169.844734}\n",
       "\n",
       "Vous devez rédiger l'amendement en français.\n"
      ],
      "text/plain": [
       "<IPython.core.display.Markdown object>"
      ]
     },
     "execution_count": 50,
     "metadata": {},
     "output_type": "execute_result"
    }
   ],
   "source": [
    "response_prompt = f\"\"\"\n",
    "Vous êtes un député à l'assemblée nationale. Vous êtes chargé de réformer la CSG.\n",
    "Votre assistant informaticien vous a préparé un amendement que vous pouvez déposer à l'assemblée nationale.\n",
    "Le Taux déductible de la contribution sociale généralisée (CSG) déductible sur les revenus d'activité\" est actuellement de 6,8%.\n",
    "Le Taux de la contribution sociale généralisée (CSG) imposable sur les revenus d'activité correspond à 2,4% du salaire brut.\n",
    "\n",
    "Voici le contenu de l'amendement en JSON :\n",
    "{json_response}\n",
    "\n",
    "Voici son impact sur les finances publiques qui doit être mentionné dans l'exposé des motifs de l'amendement :\n",
    "- Montant en euro avant réforme : {response.json()['result']['base']['state_budget']}\n",
    "- Le montant en euro après application du Projet de Loi de Finances proposé par le gouvernement : {response.json()['result']['plf']['state_budget']} \n",
    "- Le montant après votre amendement : {response.json()['result']['amendement']['state_budget']}\n",
    "\n",
    "Vous devez rédiger l'amendement en français.\n",
    "\"\"\"\n",
    "Markdown(response_prompt)\n"
   ]
  },
  {
   "cell_type": "code",
   "execution_count": 51,
   "metadata": {},
   "outputs": [
    {
     "data": {
      "text/markdown": [
       "AMENDEMENT\n",
       "\n",
       "Article additionnel après l'article 10\n",
       "\n",
       "Objet : Réforme de la Contribution Sociale Généralisée (CSG) sur les revenus d'activité\n",
       "\n",
       "Exposé des motifs :\n",
       "\n",
       "La Contribution Sociale Généralisée (CSG) est un impôt qui pèse lourdement sur les revenus d'activité des travailleurs. Afin d'alléger cette charge, il est proposé de réduire le taux de la CSG déductible de 5% et le taux de la CSG imposable de 10%.\n",
       "\n",
       "Avant la réforme, le montant de la CSG déductible sur les salaires s'élevait à -64 304 294 891,98 euros et celui de la CSG imposable à -22 695 633 461,51 euros. Après application du Projet de Loi de Finances proposé par le gouvernement, ces montants restent inchangés.\n",
       "\n",
       "Cet amendement propose de réduire le taux de la CSG déductible sur les revenus d'activité à 6,46% et le taux de la CSG imposable à 2,16%. Après cette réforme, le montant de la CSG déductible sur les salaires serait de -61 089 080 024,71 euros et celui de la CSG imposable de -20 426 070 169,84 euros.\n",
       "\n",
       "Proposition de rédaction :\n",
       "\n",
       "Après l'article 10, insérer l'article suivant :\n",
       "\n",
       "\"Le taux déductible de la contribution sociale généralisée (CSG) déductible sur les revenus d'activité est fixé à 6,46%. Le taux de la contribution sociale généralisée (CSG) imposable sur les revenus d'activité est fixé à 2,16%.\"\n",
       "\n",
       "Ces modifications seront effectives à compter du 1er janvier de l'année suivant l'adoption de la présente loi.\n",
       "\n",
       "Les pertes de recettes pour l'État sont compensées à due concurrence par la création d'une nouvelle tranche d'imposition sur le revenu pour les revenus supérieurs à 150 000 euros."
      ],
      "text/plain": [
       "<IPython.core.display.Markdown object>"
      ]
     },
     "execution_count": 51,
     "metadata": {},
     "output_type": "execute_result"
    }
   ],
   "source": [
    "amendement = get_completion(response_prompt, model=\"gpt-4\", temperature=0.5)\n",
    "Markdown(amendement)"
   ]
  }
 ],
 "metadata": {
  "kernelspec": {
   "display_name": ".venv",
   "language": "python",
   "name": "python3"
  },
  "language_info": {
   "codemirror_mode": {
    "name": "ipython",
    "version": 3
   },
   "file_extension": ".py",
   "mimetype": "text/x-python",
   "name": "python",
   "nbconvert_exporter": "python",
   "pygments_lexer": "ipython3",
   "version": "3.10.12"
  },
  "orig_nbformat": 4
 },
 "nbformat": 4,
 "nbformat_minor": 2
}
