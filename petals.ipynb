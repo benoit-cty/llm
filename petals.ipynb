{
 "cells": [
  {
   "cell_type": "markdown",
   "metadata": {},
   "source": [
    "# Utilisation de Petals Swarm\n",
    "\n",
    "## Participer au réseau\n",
    "\n",
    "C'est très simple :\n",
    "```sh\n",
    "sudo docker run -p 31330:31330 --ipc host --gpus all --volume petals-cache:/cache --rm     learningathome/petals:main     python -m petals.cli.run_server --token hf_xxx_ton_TOKEN_HF_xxx --public_name Toto --port 31330   meta-llama/Llama-2-70b-chat-hf\n",
    "```\n",
    "\n",
    "## Utiliser le réseau\n",
    "\n",
    "Installation\n",
    "```sh\n",
    "python -m venv .venv && source .venv/bin/activate\n",
    "pip install petals\n",
    "```\n",
    "\n",
    "## Appel d'un modèle"
   ]
  },
  {
   "cell_type": "code",
   "execution_count": 1,
   "metadata": {},
   "outputs": [
    {
     "name": "stderr",
     "output_type": "stream",
     "text": [
      "/media/data-nvme/dev/src/llm/.venv/lib/python3.10/site-packages/tqdm/auto.py:21: TqdmWarning: IProgress not found. Please update jupyter and ipywidgets. See https://ipywidgets.readthedocs.io/en/stable/user_install.html\n",
      "  from .autonotebook import tqdm as notebook_tqdm\n"
     ]
    },
    {
     "ename": "ModuleNotFoundError",
     "evalue": "No module named 'petals'",
     "output_type": "error",
     "traceback": [
      "\u001b[0;31m---------------------------------------------------------------------------\u001b[0m",
      "\u001b[0;31mModuleNotFoundError\u001b[0m                       Traceback (most recent call last)",
      "\u001b[1;32m/media/data-nvme/dev/src/llm/petals.ipynb Cell 1\u001b[0m line \u001b[0;36m2\n\u001b[1;32m      <a href='vscode-notebook-cell:/media/data-nvme/dev/src/llm/petals.ipynb#W0sZmlsZQ%3D%3D?line=0'>1</a>\u001b[0m \u001b[39mfrom\u001b[39;00m \u001b[39mtransformers\u001b[39;00m \u001b[39mimport\u001b[39;00m AutoTokenizer\n\u001b[0;32m----> <a href='vscode-notebook-cell:/media/data-nvme/dev/src/llm/petals.ipynb#W0sZmlsZQ%3D%3D?line=1'>2</a>\u001b[0m \u001b[39mfrom\u001b[39;00m \u001b[39mpetals\u001b[39;00m \u001b[39mimport\u001b[39;00m AutoDistributedModelForCausalLM\n\u001b[1;32m      <a href='vscode-notebook-cell:/media/data-nvme/dev/src/llm/petals.ipynb#W0sZmlsZQ%3D%3D?line=3'>4</a>\u001b[0m \u001b[39m# Choose any model available at https://health.petals.dev\u001b[39;00m\n\u001b[1;32m      <a href='vscode-notebook-cell:/media/data-nvme/dev/src/llm/petals.ipynb#W0sZmlsZQ%3D%3D?line=4'>5</a>\u001b[0m model_name \u001b[39m=\u001b[39m \u001b[39m\"\u001b[39m\u001b[39mpetals-team/StableBeluga2\u001b[39m\u001b[39m\"\u001b[39m\n",
      "\u001b[0;31mModuleNotFoundError\u001b[0m: No module named 'petals'"
     ]
    }
   ],
   "source": [
    "from transformers import AutoTokenizer\n",
    "from petals import AutoDistributedModelForCausalLM\n",
    "\n",
    "# Choose any model available at https://health.petals.dev\n",
    "model_name = \"petals-team/StableBeluga2\"\n",
    "\n",
    "# Connect to a distributed network hosting model layers\n",
    "tokenizer = AutoTokenizer.from_pretrained(model_name)\n",
    "model = AutoDistributedModelForCausalLM.from_pretrained(model_name)\n",
    "\n",
    "# Run the model as if it were on your computer\n",
    "inputs = tokenizer(\"A cat sat\", return_tensors=\"pt\")[\"input_ids\"]\n",
    "outputs = model.generate(inputs, max_new_tokens=5)\n",
    "print(tokenizer.decode(outputs[0]))  # A cat sat on a mat..."
   ]
  },
  {
   "cell_type": "markdown",
   "metadata": {},
   "source": [
    "# Finetune the model on your own data"
   ]
  },
  {
   "cell_type": "code",
   "execution_count": null,
   "metadata": {},
   "outputs": [],
   "source": []
  }
 ],
 "metadata": {
  "kernelspec": {
   "display_name": ".venv",
   "language": "python",
   "name": "python3"
  },
  "language_info": {
   "codemirror_mode": {
    "name": "ipython",
    "version": 3
   },
   "file_extension": ".py",
   "mimetype": "text/x-python",
   "name": "python",
   "nbconvert_exporter": "python",
   "pygments_lexer": "ipython3",
   "version": "3.10.12"
  },
  "orig_nbformat": 4
 },
 "nbformat": 4,
 "nbformat_minor": 2
}
