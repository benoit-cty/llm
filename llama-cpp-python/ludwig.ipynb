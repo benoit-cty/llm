{
 "cells": [
  {
   "cell_type": "markdown",
   "metadata": {},
   "source": [
    "\n",
    "# Llama fine-tuning with Ludwig\n",
    "\n",
    "\n",
    "Voir https://ludwig.ai/latest/ et https://colab.research.google.com/drive/1Ly01S--kUwkKQalE-75skalp-ftwl0fE?usp=sharing\n",
    "\n",
    "Il faut obtenir les droits sur Llama : https://ai.meta.com/resources/models-and-libraries/llama-downloads/\n",
    "\n",
    "Puis les demander sur HF : https://huggingface.co/meta-llama/Llama-2-7b-hf\n"
   ]
  },
  {
   "cell_type": "code",
   "execution_count": 1,
   "metadata": {},
   "outputs": [],
   "source": [
    "!pip install \"ludwig[llm]\" --quiet"
   ]
  },
  {
   "cell_type": "code",
   "execution_count": 2,
   "metadata": {},
   "outputs": [],
   "source": [
    "from decouple import Config, RepositoryEnv\n",
    "import os\n",
    "DOTENV_FILE = '../.env'\n",
    "env_config = Config(RepositoryEnv(DOTENV_FILE))\n",
    "os.environ[\"HUGGING_FACE_HUB_TOKEN\"] = env_config('HUGGING_FACE_HUB_TOKEN')"
   ]
  },
  {
   "cell_type": "code",
   "execution_count": 3,
   "metadata": {},
   "outputs": [],
   "source": [
    "import yaml\n",
    "\n",
    "config_str = \"\"\"\n",
    "model_type: llm\n",
    "base_model: meta-llama/Llama-2-7b-hf\n",
    "\n",
    "quantization:\n",
    "  bits: 4\n",
    "\n",
    "adapter:\n",
    "  type: lora\n",
    "\n",
    "prompt:\n",
    "  template: |\n",
    "    ### Instruction:\n",
    "    {instruction}\n",
    "\n",
    "    ### Input:\n",
    "    {input}\n",
    "\n",
    "    ### Response:\n",
    "\n",
    "input_features:\n",
    "  - name: prompt\n",
    "    type: text\n",
    "\n",
    "output_features:\n",
    "  - name: output\n",
    "    type: text\n",
    "\n",
    "trainer:\n",
    "  type: finetune\n",
    "  learning_rate: 0.0001\n",
    "  batch_size: 1\n",
    "  gradient_accumulation_steps: 16\n",
    "  epochs: 3\n",
    "  learning_rate_scheduler:\n",
    "    warmup_fraction: 0.01\n",
    "\n",
    "preprocessing:\n",
    "  sample_ratio: 0.1\n",
    "\"\"\"\n",
    "\n",
    "config = yaml.safe_load(config_str)"
   ]
  },
  {
   "cell_type": "code",
   "execution_count": 4,
   "metadata": {},
   "outputs": [
    {
     "name": "stderr",
     "output_type": "stream",
     "text": [
      "/media/data-nvme/dev/src/llm/.venv/lib/python3.10/site-packages/tqdm/auto.py:21: TqdmWarning: IProgress not found. Please update jupyter and ipywidgets. See https://ipywidgets.readthedocs.io/en/stable/user_install.html\n",
      "  from .autonotebook import tqdm as notebook_tqdm\n"
     ]
    },
    {
     "name": "stdout",
     "output_type": "stream",
     "text": [
      "Created a temporary directory at /tmp/tmpgkbat4b2\n",
      "Writing /tmp/tmpgkbat4b2/_remote_module_non_scriptable.py\n"
     ]
    },
    {
     "ename": "ConfigValidationError",
     "evalue": "Specified base model `meta-llama/Llama-2-7b-hf` is not a valid pretrained CausalLM listed on huggingface. Please see: https://huggingface.co/models?pipeline_tag=text-generation&sort=downloads",
     "output_type": "error",
     "traceback": [
      "\u001b[0;31m---------------------------------------------------------------------------\u001b[0m",
      "\u001b[0;31mHTTPError\u001b[0m                                 Traceback (most recent call last)",
      "File \u001b[0;32m/media/data-nvme/dev/src/llm/.venv/lib/python3.10/site-packages/huggingface_hub/utils/_errors.py:261\u001b[0m, in \u001b[0;36mhf_raise_for_status\u001b[0;34m(response, endpoint_name)\u001b[0m\n\u001b[1;32m    260\u001b[0m \u001b[39mtry\u001b[39;00m:\n\u001b[0;32m--> 261\u001b[0m     response\u001b[39m.\u001b[39;49mraise_for_status()\n\u001b[1;32m    262\u001b[0m \u001b[39mexcept\u001b[39;00m HTTPError \u001b[39mas\u001b[39;00m e:\n",
      "File \u001b[0;32m/media/data-nvme/dev/src/llm/.venv/lib/python3.10/site-packages/requests/models.py:1021\u001b[0m, in \u001b[0;36mResponse.raise_for_status\u001b[0;34m(self)\u001b[0m\n\u001b[1;32m   1020\u001b[0m \u001b[39mif\u001b[39;00m http_error_msg:\n\u001b[0;32m-> 1021\u001b[0m     \u001b[39mraise\u001b[39;00m HTTPError(http_error_msg, response\u001b[39m=\u001b[39m\u001b[39mself\u001b[39m)\n",
      "\u001b[0;31mHTTPError\u001b[0m: 403 Client Error: Forbidden for url: https://huggingface.co/meta-llama/Llama-2-7b-hf/resolve/main/config.json",
      "\nThe above exception was the direct cause of the following exception:\n",
      "\u001b[0;31mGatedRepoError\u001b[0m                            Traceback (most recent call last)",
      "File \u001b[0;32m/media/data-nvme/dev/src/llm/.venv/lib/python3.10/site-packages/transformers/utils/hub.py:417\u001b[0m, in \u001b[0;36mcached_file\u001b[0;34m(path_or_repo_id, filename, cache_dir, force_download, resume_download, proxies, use_auth_token, revision, local_files_only, subfolder, repo_type, user_agent, _raise_exceptions_for_missing_entries, _raise_exceptions_for_connection_errors, _commit_hash)\u001b[0m\n\u001b[1;32m    415\u001b[0m \u001b[39mtry\u001b[39;00m:\n\u001b[1;32m    416\u001b[0m     \u001b[39m# Load from URL or cache if already cached\u001b[39;00m\n\u001b[0;32m--> 417\u001b[0m     resolved_file \u001b[39m=\u001b[39m hf_hub_download(\n\u001b[1;32m    418\u001b[0m         path_or_repo_id,\n\u001b[1;32m    419\u001b[0m         filename,\n\u001b[1;32m    420\u001b[0m         subfolder\u001b[39m=\u001b[39;49m\u001b[39mNone\u001b[39;49;00m \u001b[39mif\u001b[39;49;00m \u001b[39mlen\u001b[39;49m(subfolder) \u001b[39m==\u001b[39;49m \u001b[39m0\u001b[39;49m \u001b[39melse\u001b[39;49;00m subfolder,\n\u001b[1;32m    421\u001b[0m         repo_type\u001b[39m=\u001b[39;49mrepo_type,\n\u001b[1;32m    422\u001b[0m         revision\u001b[39m=\u001b[39;49mrevision,\n\u001b[1;32m    423\u001b[0m         cache_dir\u001b[39m=\u001b[39;49mcache_dir,\n\u001b[1;32m    424\u001b[0m         user_agent\u001b[39m=\u001b[39;49muser_agent,\n\u001b[1;32m    425\u001b[0m         force_download\u001b[39m=\u001b[39;49mforce_download,\n\u001b[1;32m    426\u001b[0m         proxies\u001b[39m=\u001b[39;49mproxies,\n\u001b[1;32m    427\u001b[0m         resume_download\u001b[39m=\u001b[39;49mresume_download,\n\u001b[1;32m    428\u001b[0m         use_auth_token\u001b[39m=\u001b[39;49muse_auth_token,\n\u001b[1;32m    429\u001b[0m         local_files_only\u001b[39m=\u001b[39;49mlocal_files_only,\n\u001b[1;32m    430\u001b[0m     )\n\u001b[1;32m    432\u001b[0m \u001b[39mexcept\u001b[39;00m RepositoryNotFoundError:\n",
      "File \u001b[0;32m/media/data-nvme/dev/src/llm/.venv/lib/python3.10/site-packages/huggingface_hub/utils/_validators.py:118\u001b[0m, in \u001b[0;36mvalidate_hf_hub_args.<locals>._inner_fn\u001b[0;34m(*args, **kwargs)\u001b[0m\n\u001b[1;32m    116\u001b[0m     kwargs \u001b[39m=\u001b[39m smoothly_deprecate_use_auth_token(fn_name\u001b[39m=\u001b[39mfn\u001b[39m.\u001b[39m\u001b[39m__name__\u001b[39m, has_token\u001b[39m=\u001b[39mhas_token, kwargs\u001b[39m=\u001b[39mkwargs)\n\u001b[0;32m--> 118\u001b[0m \u001b[39mreturn\u001b[39;00m fn(\u001b[39m*\u001b[39;49margs, \u001b[39m*\u001b[39;49m\u001b[39m*\u001b[39;49mkwargs)\n",
      "File \u001b[0;32m/media/data-nvme/dev/src/llm/.venv/lib/python3.10/site-packages/huggingface_hub/file_download.py:1195\u001b[0m, in \u001b[0;36mhf_hub_download\u001b[0;34m(repo_id, filename, subfolder, repo_type, revision, library_name, library_version, cache_dir, local_dir, local_dir_use_symlinks, user_agent, force_download, force_filename, proxies, etag_timeout, resume_download, token, local_files_only, legacy_cache_layout)\u001b[0m\n\u001b[1;32m   1194\u001b[0m \u001b[39mtry\u001b[39;00m:\n\u001b[0;32m-> 1195\u001b[0m     metadata \u001b[39m=\u001b[39m get_hf_file_metadata(\n\u001b[1;32m   1196\u001b[0m         url\u001b[39m=\u001b[39;49murl,\n\u001b[1;32m   1197\u001b[0m         token\u001b[39m=\u001b[39;49mtoken,\n\u001b[1;32m   1198\u001b[0m         proxies\u001b[39m=\u001b[39;49mproxies,\n\u001b[1;32m   1199\u001b[0m         timeout\u001b[39m=\u001b[39;49metag_timeout,\n\u001b[1;32m   1200\u001b[0m     )\n\u001b[1;32m   1201\u001b[0m \u001b[39mexcept\u001b[39;00m EntryNotFoundError \u001b[39mas\u001b[39;00m http_error:\n\u001b[1;32m   1202\u001b[0m     \u001b[39m# Cache the non-existence of the file and raise\u001b[39;00m\n",
      "File \u001b[0;32m/media/data-nvme/dev/src/llm/.venv/lib/python3.10/site-packages/huggingface_hub/utils/_validators.py:118\u001b[0m, in \u001b[0;36mvalidate_hf_hub_args.<locals>._inner_fn\u001b[0;34m(*args, **kwargs)\u001b[0m\n\u001b[1;32m    116\u001b[0m     kwargs \u001b[39m=\u001b[39m smoothly_deprecate_use_auth_token(fn_name\u001b[39m=\u001b[39mfn\u001b[39m.\u001b[39m\u001b[39m__name__\u001b[39m, has_token\u001b[39m=\u001b[39mhas_token, kwargs\u001b[39m=\u001b[39mkwargs)\n\u001b[0;32m--> 118\u001b[0m \u001b[39mreturn\u001b[39;00m fn(\u001b[39m*\u001b[39;49margs, \u001b[39m*\u001b[39;49m\u001b[39m*\u001b[39;49mkwargs)\n",
      "File \u001b[0;32m/media/data-nvme/dev/src/llm/.venv/lib/python3.10/site-packages/huggingface_hub/file_download.py:1541\u001b[0m, in \u001b[0;36mget_hf_file_metadata\u001b[0;34m(url, token, proxies, timeout)\u001b[0m\n\u001b[1;32m   1532\u001b[0m r \u001b[39m=\u001b[39m _request_wrapper(\n\u001b[1;32m   1533\u001b[0m     method\u001b[39m=\u001b[39m\u001b[39m\"\u001b[39m\u001b[39mHEAD\u001b[39m\u001b[39m\"\u001b[39m,\n\u001b[1;32m   1534\u001b[0m     url\u001b[39m=\u001b[39murl,\n\u001b[0;32m   (...)\u001b[0m\n\u001b[1;32m   1539\u001b[0m     timeout\u001b[39m=\u001b[39mtimeout,\n\u001b[1;32m   1540\u001b[0m )\n\u001b[0;32m-> 1541\u001b[0m hf_raise_for_status(r)\n\u001b[1;32m   1543\u001b[0m \u001b[39m# Return\u001b[39;00m\n",
      "File \u001b[0;32m/media/data-nvme/dev/src/llm/.venv/lib/python3.10/site-packages/huggingface_hub/utils/_errors.py:277\u001b[0m, in \u001b[0;36mhf_raise_for_status\u001b[0;34m(response, endpoint_name)\u001b[0m\n\u001b[1;32m    274\u001b[0m     message \u001b[39m=\u001b[39m (\n\u001b[1;32m    275\u001b[0m         \u001b[39mf\u001b[39m\u001b[39m\"\u001b[39m\u001b[39m{\u001b[39;00mresponse\u001b[39m.\u001b[39mstatus_code\u001b[39m}\u001b[39;00m\u001b[39m Client Error.\u001b[39m\u001b[39m\"\u001b[39m \u001b[39m+\u001b[39m \u001b[39m\"\u001b[39m\u001b[39m\\n\u001b[39;00m\u001b[39m\\n\u001b[39;00m\u001b[39m\"\u001b[39m \u001b[39m+\u001b[39m \u001b[39mf\u001b[39m\u001b[39m\"\u001b[39m\u001b[39mCannot access gated repo for url \u001b[39m\u001b[39m{\u001b[39;00mresponse\u001b[39m.\u001b[39murl\u001b[39m}\u001b[39;00m\u001b[39m.\u001b[39m\u001b[39m\"\u001b[39m\n\u001b[1;32m    276\u001b[0m     )\n\u001b[0;32m--> 277\u001b[0m     \u001b[39mraise\u001b[39;00m GatedRepoError(message, response) \u001b[39mfrom\u001b[39;00m \u001b[39me\u001b[39;00m\n\u001b[1;32m    279\u001b[0m \u001b[39melif\u001b[39;00m error_code \u001b[39m==\u001b[39m \u001b[39m\"\u001b[39m\u001b[39mRepoNotFound\u001b[39m\u001b[39m\"\u001b[39m \u001b[39mor\u001b[39;00m response\u001b[39m.\u001b[39mstatus_code \u001b[39m==\u001b[39m \u001b[39m401\u001b[39m:\n\u001b[1;32m    280\u001b[0m     \u001b[39m# 401 is misleading as it is returned for:\u001b[39;00m\n\u001b[1;32m    281\u001b[0m     \u001b[39m#    - private and gated repos if user is not authenticated\u001b[39;00m\n\u001b[1;32m    282\u001b[0m     \u001b[39m#    - missing repos\u001b[39;00m\n\u001b[1;32m    283\u001b[0m     \u001b[39m# => for now, we process them as `RepoNotFound` anyway.\u001b[39;00m\n\u001b[1;32m    284\u001b[0m     \u001b[39m# See https://gist.github.com/Wauplin/46c27ad266b15998ce56a6603796f0b9\u001b[39;00m\n",
      "\u001b[0;31mGatedRepoError\u001b[0m: 403 Client Error. (Request ID: Root=1-64f24ea3-57ddcad20594029717852645;442caf62-aff9-4cea-aae5-2da73912f747)\n\nCannot access gated repo for url https://huggingface.co/meta-llama/Llama-2-7b-hf/resolve/main/config.json.\nYour request to access model meta-llama/Llama-2-7b-hf is awaiting a review from the repo authors.",
      "\nDuring handling of the above exception, another exception occurred:\n",
      "\u001b[0;31mOSError\u001b[0m                                   Traceback (most recent call last)",
      "File \u001b[0;32m/media/data-nvme/dev/src/llm/.venv/lib/python3.10/site-packages/ludwig/schema/llms/base_model.py:54\u001b[0m, in \u001b[0;36mBaseModelDataclassField.<locals>.validate\u001b[0;34m(model_name)\u001b[0m\n\u001b[1;32m     53\u001b[0m \u001b[39mtry\u001b[39;00m:\n\u001b[0;32m---> 54\u001b[0m     AutoConfig\u001b[39m.\u001b[39;49mfrom_pretrained(model_name)\n\u001b[1;32m     55\u001b[0m     \u001b[39mreturn\u001b[39;00m model_name\n",
      "File \u001b[0;32m/media/data-nvme/dev/src/llm/.venv/lib/python3.10/site-packages/transformers/models/auto/configuration_auto.py:983\u001b[0m, in \u001b[0;36mAutoConfig.from_pretrained\u001b[0;34m(cls, pretrained_model_name_or_path, **kwargs)\u001b[0m\n\u001b[1;32m    982\u001b[0m trust_remote_code \u001b[39m=\u001b[39m kwargs\u001b[39m.\u001b[39mpop(\u001b[39m\"\u001b[39m\u001b[39mtrust_remote_code\u001b[39m\u001b[39m\"\u001b[39m, \u001b[39mNone\u001b[39;00m)\n\u001b[0;32m--> 983\u001b[0m config_dict, unused_kwargs \u001b[39m=\u001b[39m PretrainedConfig\u001b[39m.\u001b[39;49mget_config_dict(pretrained_model_name_or_path, \u001b[39m*\u001b[39;49m\u001b[39m*\u001b[39;49mkwargs)\n\u001b[1;32m    984\u001b[0m has_remote_code \u001b[39m=\u001b[39m \u001b[39m\"\u001b[39m\u001b[39mauto_map\u001b[39m\u001b[39m\"\u001b[39m \u001b[39min\u001b[39;00m config_dict \u001b[39mand\u001b[39;00m \u001b[39m\"\u001b[39m\u001b[39mAutoConfig\u001b[39m\u001b[39m\"\u001b[39m \u001b[39min\u001b[39;00m config_dict[\u001b[39m\"\u001b[39m\u001b[39mauto_map\u001b[39m\u001b[39m\"\u001b[39m]\n",
      "File \u001b[0;32m/media/data-nvme/dev/src/llm/.venv/lib/python3.10/site-packages/transformers/configuration_utils.py:617\u001b[0m, in \u001b[0;36mPretrainedConfig.get_config_dict\u001b[0;34m(cls, pretrained_model_name_or_path, **kwargs)\u001b[0m\n\u001b[1;32m    616\u001b[0m \u001b[39m# Get config dict associated with the base config file\u001b[39;00m\n\u001b[0;32m--> 617\u001b[0m config_dict, kwargs \u001b[39m=\u001b[39m \u001b[39mcls\u001b[39;49m\u001b[39m.\u001b[39;49m_get_config_dict(pretrained_model_name_or_path, \u001b[39m*\u001b[39;49m\u001b[39m*\u001b[39;49mkwargs)\n\u001b[1;32m    618\u001b[0m \u001b[39mif\u001b[39;00m \u001b[39m\"\u001b[39m\u001b[39m_commit_hash\u001b[39m\u001b[39m\"\u001b[39m \u001b[39min\u001b[39;00m config_dict:\n",
      "File \u001b[0;32m/media/data-nvme/dev/src/llm/.venv/lib/python3.10/site-packages/transformers/configuration_utils.py:672\u001b[0m, in \u001b[0;36mPretrainedConfig._get_config_dict\u001b[0;34m(cls, pretrained_model_name_or_path, **kwargs)\u001b[0m\n\u001b[1;32m    670\u001b[0m \u001b[39mtry\u001b[39;00m:\n\u001b[1;32m    671\u001b[0m     \u001b[39m# Load from local folder or from cache or download from model Hub and cache\u001b[39;00m\n\u001b[0;32m--> 672\u001b[0m     resolved_config_file \u001b[39m=\u001b[39m cached_file(\n\u001b[1;32m    673\u001b[0m         pretrained_model_name_or_path,\n\u001b[1;32m    674\u001b[0m         configuration_file,\n\u001b[1;32m    675\u001b[0m         cache_dir\u001b[39m=\u001b[39;49mcache_dir,\n\u001b[1;32m    676\u001b[0m         force_download\u001b[39m=\u001b[39;49mforce_download,\n\u001b[1;32m    677\u001b[0m         proxies\u001b[39m=\u001b[39;49mproxies,\n\u001b[1;32m    678\u001b[0m         resume_download\u001b[39m=\u001b[39;49mresume_download,\n\u001b[1;32m    679\u001b[0m         local_files_only\u001b[39m=\u001b[39;49mlocal_files_only,\n\u001b[1;32m    680\u001b[0m         use_auth_token\u001b[39m=\u001b[39;49muse_auth_token,\n\u001b[1;32m    681\u001b[0m         user_agent\u001b[39m=\u001b[39;49muser_agent,\n\u001b[1;32m    682\u001b[0m         revision\u001b[39m=\u001b[39;49mrevision,\n\u001b[1;32m    683\u001b[0m         subfolder\u001b[39m=\u001b[39;49msubfolder,\n\u001b[1;32m    684\u001b[0m         _commit_hash\u001b[39m=\u001b[39;49mcommit_hash,\n\u001b[1;32m    685\u001b[0m     )\n\u001b[1;32m    686\u001b[0m     commit_hash \u001b[39m=\u001b[39m extract_commit_hash(resolved_config_file, commit_hash)\n",
      "File \u001b[0;32m/media/data-nvme/dev/src/llm/.venv/lib/python3.10/site-packages/transformers/utils/hub.py:433\u001b[0m, in \u001b[0;36mcached_file\u001b[0;34m(path_or_repo_id, filename, cache_dir, force_download, resume_download, proxies, use_auth_token, revision, local_files_only, subfolder, repo_type, user_agent, _raise_exceptions_for_missing_entries, _raise_exceptions_for_connection_errors, _commit_hash)\u001b[0m\n\u001b[1;32m    432\u001b[0m \u001b[39mexcept\u001b[39;00m RepositoryNotFoundError:\n\u001b[0;32m--> 433\u001b[0m     \u001b[39mraise\u001b[39;00m \u001b[39mEnvironmentError\u001b[39;00m(\n\u001b[1;32m    434\u001b[0m         \u001b[39mf\u001b[39m\u001b[39m\"\u001b[39m\u001b[39m{\u001b[39;00mpath_or_repo_id\u001b[39m}\u001b[39;00m\u001b[39m is not a local folder and is not a valid model identifier \u001b[39m\u001b[39m\"\u001b[39m\n\u001b[1;32m    435\u001b[0m         \u001b[39m\"\u001b[39m\u001b[39mlisted on \u001b[39m\u001b[39m'\u001b[39m\u001b[39mhttps://huggingface.co/models\u001b[39m\u001b[39m'\u001b[39m\u001b[39m\\n\u001b[39;00m\u001b[39mIf this is a private repository, make sure to \u001b[39m\u001b[39m\"\u001b[39m\n\u001b[1;32m    436\u001b[0m         \u001b[39m\"\u001b[39m\u001b[39mpass a token having permission to this repo with `use_auth_token` or log in with \u001b[39m\u001b[39m\"\u001b[39m\n\u001b[1;32m    437\u001b[0m         \u001b[39m\"\u001b[39m\u001b[39m`huggingface-cli login` and pass `use_auth_token=True`.\u001b[39m\u001b[39m\"\u001b[39m\n\u001b[1;32m    438\u001b[0m     )\n\u001b[1;32m    439\u001b[0m \u001b[39mexcept\u001b[39;00m RevisionNotFoundError:\n",
      "\u001b[0;31mOSError\u001b[0m: meta-llama/Llama-2-7b-hf is not a local folder and is not a valid model identifier listed on 'https://huggingface.co/models'\nIf this is a private repository, make sure to pass a token having permission to this repo with `use_auth_token` or log in with `huggingface-cli login` and pass `use_auth_token=True`.",
      "\nDuring handling of the above exception, another exception occurred:\n",
      "\u001b[0;31mConfigValidationError\u001b[0m                     Traceback (most recent call last)",
      "Cell \u001b[0;32mIn[4], line 5\u001b[0m\n\u001b[1;32m      1\u001b[0m \u001b[39mimport\u001b[39;00m \u001b[39mlogging\u001b[39;00m\n\u001b[1;32m      2\u001b[0m \u001b[39mfrom\u001b[39;00m \u001b[39mludwig\u001b[39;00m\u001b[39m.\u001b[39;00m\u001b[39mapi\u001b[39;00m \u001b[39mimport\u001b[39;00m LudwigModel\n\u001b[0;32m----> 5\u001b[0m model \u001b[39m=\u001b[39m LudwigModel(config\u001b[39m=\u001b[39;49mconfig, logging_level\u001b[39m=\u001b[39;49mlogging\u001b[39m.\u001b[39;49mINFO)\n\u001b[1;32m      6\u001b[0m results \u001b[39m=\u001b[39m model\u001b[39m.\u001b[39mtrain(dataset\u001b[39m=\u001b[39m\u001b[39m\"\u001b[39m\u001b[39mludwig://alpaca\u001b[39m\u001b[39m\"\u001b[39m)\n\u001b[1;32m      7\u001b[0m \u001b[39mprint\u001b[39m(results)\n",
      "File \u001b[0;32m/media/data-nvme/dev/src/llm/.venv/lib/python3.10/site-packages/ludwig/api.py:313\u001b[0m, in \u001b[0;36mLudwigModel.__init__\u001b[0;34m(self, config, logging_level, backend, gpus, gpu_memory_limit, allow_parallel_threads, callbacks)\u001b[0m\n\u001b[1;32m    310\u001b[0m \u001b[39mself\u001b[39m\u001b[39m.\u001b[39m_user_config \u001b[39m=\u001b[39m upgrade_config_dict_to_latest_version(config_dict)\n\u001b[1;32m    312\u001b[0m \u001b[39m# Initialize the config object\u001b[39;00m\n\u001b[0;32m--> 313\u001b[0m \u001b[39mself\u001b[39m\u001b[39m.\u001b[39mconfig_obj \u001b[39m=\u001b[39m ModelConfig\u001b[39m.\u001b[39;49mfrom_dict(\u001b[39mself\u001b[39;49m\u001b[39m.\u001b[39;49m_user_config)\n\u001b[1;32m    315\u001b[0m \u001b[39m# setup logging\u001b[39;00m\n\u001b[1;32m    316\u001b[0m \u001b[39mself\u001b[39m\u001b[39m.\u001b[39mset_logging_level(logging_level)\n",
      "File \u001b[0;32m/media/data-nvme/dev/src/llm/.venv/lib/python3.10/site-packages/ludwig/schema/model_types/base.py:141\u001b[0m, in \u001b[0;36mModelConfig.from_dict\u001b[0;34m(config)\u001b[0m\n\u001b[1;32m    139\u001b[0m schema \u001b[39m=\u001b[39m \u001b[39mcls\u001b[39m\u001b[39m.\u001b[39mget_class_schema()()\n\u001b[1;32m    140\u001b[0m \u001b[39mtry\u001b[39;00m:\n\u001b[0;32m--> 141\u001b[0m     config_obj: ModelConfig \u001b[39m=\u001b[39m schema\u001b[39m.\u001b[39;49mload(config)\n\u001b[1;32m    142\u001b[0m \u001b[39mexcept\u001b[39;00m ValidationError \u001b[39mas\u001b[39;00m e:\n\u001b[1;32m    143\u001b[0m     \u001b[39mraise\u001b[39;00m ConfigValidationError(\u001b[39mf\u001b[39m\u001b[39m\"\u001b[39m\u001b[39mConfig validation error raised during config deserialization: \u001b[39m\u001b[39m{\u001b[39;00me\u001b[39m}\u001b[39;00m\u001b[39m\"\u001b[39m) \u001b[39mfrom\u001b[39;00m \u001b[39me\u001b[39;00m\n",
      "File \u001b[0;32m/media/data-nvme/dev/src/llm/.venv/lib/python3.10/site-packages/marshmallow_dataclass/__init__.py:725\u001b[0m, in \u001b[0;36m_base_schema.<locals>.BaseSchema.load\u001b[0;34m(self, data, many, **kwargs)\u001b[0m\n\u001b[1;32m    724\u001b[0m \u001b[39mdef\u001b[39;00m \u001b[39mload\u001b[39m(\u001b[39mself\u001b[39m, data: Mapping, \u001b[39m*\u001b[39m, many: \u001b[39mbool\u001b[39m \u001b[39m=\u001b[39m \u001b[39mNone\u001b[39;00m, \u001b[39m*\u001b[39m\u001b[39m*\u001b[39mkwargs):\n\u001b[0;32m--> 725\u001b[0m     all_loaded \u001b[39m=\u001b[39m \u001b[39msuper\u001b[39;49m()\u001b[39m.\u001b[39;49mload(data, many\u001b[39m=\u001b[39;49mmany, \u001b[39m*\u001b[39;49m\u001b[39m*\u001b[39;49mkwargs)\n\u001b[1;32m    726\u001b[0m     many \u001b[39m=\u001b[39m \u001b[39mself\u001b[39m\u001b[39m.\u001b[39mmany \u001b[39mif\u001b[39;00m many \u001b[39mis\u001b[39;00m \u001b[39mNone\u001b[39;00m \u001b[39melse\u001b[39;00m \u001b[39mbool\u001b[39m(many)\n\u001b[1;32m    727\u001b[0m     \u001b[39mif\u001b[39;00m many:\n",
      "File \u001b[0;32m/media/data-nvme/dev/src/llm/.venv/lib/python3.10/site-packages/marshmallow/schema.py:722\u001b[0m, in \u001b[0;36mSchema.load\u001b[0;34m(self, data, many, partial, unknown)\u001b[0m\n\u001b[1;32m    691\u001b[0m \u001b[39mdef\u001b[39;00m \u001b[39mload\u001b[39m(\n\u001b[1;32m    692\u001b[0m     \u001b[39mself\u001b[39m,\n\u001b[1;32m    693\u001b[0m     data: (\n\u001b[0;32m   (...)\u001b[0m\n\u001b[1;32m    700\u001b[0m     unknown: \u001b[39mstr\u001b[39m \u001b[39m|\u001b[39m \u001b[39mNone\u001b[39;00m \u001b[39m=\u001b[39m \u001b[39mNone\u001b[39;00m,\n\u001b[1;32m    701\u001b[0m ):\n\u001b[1;32m    702\u001b[0m \u001b[39m    \u001b[39m\u001b[39m\"\"\"Deserialize a data structure to an object defined by this Schema's fields.\u001b[39;00m\n\u001b[1;32m    703\u001b[0m \n\u001b[1;32m    704\u001b[0m \u001b[39m    :param data: The data to deserialize.\u001b[39;00m\n\u001b[0;32m   (...)\u001b[0m\n\u001b[1;32m    720\u001b[0m \u001b[39m        if invalid data are passed.\u001b[39;00m\n\u001b[1;32m    721\u001b[0m \u001b[39m    \"\"\"\u001b[39;00m\n\u001b[0;32m--> 722\u001b[0m     \u001b[39mreturn\u001b[39;00m \u001b[39mself\u001b[39;49m\u001b[39m.\u001b[39;49m_do_load(\n\u001b[1;32m    723\u001b[0m         data, many\u001b[39m=\u001b[39;49mmany, partial\u001b[39m=\u001b[39;49mpartial, unknown\u001b[39m=\u001b[39;49munknown, postprocess\u001b[39m=\u001b[39;49m\u001b[39mTrue\u001b[39;49;00m\n\u001b[1;32m    724\u001b[0m     )\n",
      "File \u001b[0;32m/media/data-nvme/dev/src/llm/.venv/lib/python3.10/site-packages/marshmallow/schema.py:861\u001b[0m, in \u001b[0;36mSchema._do_load\u001b[0;34m(self, data, many, partial, unknown, postprocess)\u001b[0m\n\u001b[1;32m    858\u001b[0m     processed_data \u001b[39m=\u001b[39m data\n\u001b[1;32m    859\u001b[0m \u001b[39mif\u001b[39;00m \u001b[39mnot\u001b[39;00m errors:\n\u001b[1;32m    860\u001b[0m     \u001b[39m# Deserialize data\u001b[39;00m\n\u001b[0;32m--> 861\u001b[0m     result \u001b[39m=\u001b[39m \u001b[39mself\u001b[39;49m\u001b[39m.\u001b[39;49m_deserialize(\n\u001b[1;32m    862\u001b[0m         processed_data,\n\u001b[1;32m    863\u001b[0m         error_store\u001b[39m=\u001b[39;49merror_store,\n\u001b[1;32m    864\u001b[0m         many\u001b[39m=\u001b[39;49mmany,\n\u001b[1;32m    865\u001b[0m         partial\u001b[39m=\u001b[39;49mpartial,\n\u001b[1;32m    866\u001b[0m         unknown\u001b[39m=\u001b[39;49munknown,\n\u001b[1;32m    867\u001b[0m     )\n\u001b[1;32m    868\u001b[0m     \u001b[39m# Run field-level validation\u001b[39;00m\n\u001b[1;32m    869\u001b[0m     \u001b[39mself\u001b[39m\u001b[39m.\u001b[39m_invoke_field_validators(\n\u001b[1;32m    870\u001b[0m         error_store\u001b[39m=\u001b[39merror_store, data\u001b[39m=\u001b[39mresult, many\u001b[39m=\u001b[39mmany\n\u001b[1;32m    871\u001b[0m     )\n",
      "File \u001b[0;32m/media/data-nvme/dev/src/llm/.venv/lib/python3.10/site-packages/marshmallow/schema.py:664\u001b[0m, in \u001b[0;36mSchema._deserialize\u001b[0;34m(self, data, error_store, many, partial, unknown, index)\u001b[0m\n\u001b[1;32m    660\u001b[0m     d_kwargs[\u001b[39m\"\u001b[39m\u001b[39mpartial\u001b[39m\u001b[39m\"\u001b[39m] \u001b[39m=\u001b[39m partial\n\u001b[1;32m    661\u001b[0m getter \u001b[39m=\u001b[39m \u001b[39mlambda\u001b[39;00m val: field_obj\u001b[39m.\u001b[39mdeserialize(\n\u001b[1;32m    662\u001b[0m     val, field_name, data, \u001b[39m*\u001b[39m\u001b[39m*\u001b[39md_kwargs\n\u001b[1;32m    663\u001b[0m )\n\u001b[0;32m--> 664\u001b[0m value \u001b[39m=\u001b[39m \u001b[39mself\u001b[39;49m\u001b[39m.\u001b[39;49m_call_and_store(\n\u001b[1;32m    665\u001b[0m     getter_func\u001b[39m=\u001b[39;49mgetter,\n\u001b[1;32m    666\u001b[0m     data\u001b[39m=\u001b[39;49mraw_value,\n\u001b[1;32m    667\u001b[0m     field_name\u001b[39m=\u001b[39;49mfield_name,\n\u001b[1;32m    668\u001b[0m     error_store\u001b[39m=\u001b[39;49merror_store,\n\u001b[1;32m    669\u001b[0m     index\u001b[39m=\u001b[39;49mindex,\n\u001b[1;32m    670\u001b[0m )\n\u001b[1;32m    671\u001b[0m \u001b[39mif\u001b[39;00m value \u001b[39mis\u001b[39;00m \u001b[39mnot\u001b[39;00m missing:\n\u001b[1;32m    672\u001b[0m     key \u001b[39m=\u001b[39m field_obj\u001b[39m.\u001b[39mattribute \u001b[39mor\u001b[39;00m attr_name\n",
      "File \u001b[0;32m/media/data-nvme/dev/src/llm/.venv/lib/python3.10/site-packages/marshmallow/schema.py:500\u001b[0m, in \u001b[0;36mSchema._call_and_store\u001b[0;34m(getter_func, data, field_name, error_store, index)\u001b[0m\n\u001b[1;32m    490\u001b[0m \u001b[39m\u001b[39m\u001b[39m\"\"\"Call ``getter_func`` with ``data`` as its argument, and store any `ValidationErrors`.\u001b[39;00m\n\u001b[1;32m    491\u001b[0m \n\u001b[1;32m    492\u001b[0m \u001b[39m:param callable getter_func: Function for getting the serialized/deserialized\u001b[39;00m\n\u001b[0;32m   (...)\u001b[0m\n\u001b[1;32m    497\u001b[0m \u001b[39m    otherwise `None`.\u001b[39;00m\n\u001b[1;32m    498\u001b[0m \u001b[39m\"\"\"\u001b[39;00m\n\u001b[1;32m    499\u001b[0m \u001b[39mtry\u001b[39;00m:\n\u001b[0;32m--> 500\u001b[0m     value \u001b[39m=\u001b[39m getter_func(data)\n\u001b[1;32m    501\u001b[0m \u001b[39mexcept\u001b[39;00m ValidationError \u001b[39mas\u001b[39;00m error:\n\u001b[1;32m    502\u001b[0m     error_store\u001b[39m.\u001b[39mstore_error(error\u001b[39m.\u001b[39mmessages, field_name, index\u001b[39m=\u001b[39mindex)\n",
      "File \u001b[0;32m/media/data-nvme/dev/src/llm/.venv/lib/python3.10/site-packages/marshmallow/schema.py:661\u001b[0m, in \u001b[0;36mSchema._deserialize.<locals>.<lambda>\u001b[0;34m(val)\u001b[0m\n\u001b[1;32m    659\u001b[0m \u001b[39melse\u001b[39;00m:\n\u001b[1;32m    660\u001b[0m     d_kwargs[\u001b[39m\"\u001b[39m\u001b[39mpartial\u001b[39m\u001b[39m\"\u001b[39m] \u001b[39m=\u001b[39m partial\n\u001b[0;32m--> 661\u001b[0m getter \u001b[39m=\u001b[39m \u001b[39mlambda\u001b[39;00m val: field_obj\u001b[39m.\u001b[39;49mdeserialize(\n\u001b[1;32m    662\u001b[0m     val, field_name, data, \u001b[39m*\u001b[39;49m\u001b[39m*\u001b[39;49md_kwargs\n\u001b[1;32m    663\u001b[0m )\n\u001b[1;32m    664\u001b[0m value \u001b[39m=\u001b[39m \u001b[39mself\u001b[39m\u001b[39m.\u001b[39m_call_and_store(\n\u001b[1;32m    665\u001b[0m     getter_func\u001b[39m=\u001b[39mgetter,\n\u001b[1;32m    666\u001b[0m     data\u001b[39m=\u001b[39mraw_value,\n\u001b[0;32m   (...)\u001b[0m\n\u001b[1;32m    669\u001b[0m     index\u001b[39m=\u001b[39mindex,\n\u001b[1;32m    670\u001b[0m )\n\u001b[1;32m    671\u001b[0m \u001b[39mif\u001b[39;00m value \u001b[39mis\u001b[39;00m \u001b[39mnot\u001b[39;00m missing:\n",
      "File \u001b[0;32m/media/data-nvme/dev/src/llm/.venv/lib/python3.10/site-packages/marshmallow/fields.py:370\u001b[0m, in \u001b[0;36mField.deserialize\u001b[0;34m(self, value, attr, data, **kwargs)\u001b[0m\n\u001b[1;32m    368\u001b[0m \u001b[39mif\u001b[39;00m \u001b[39mself\u001b[39m\u001b[39m.\u001b[39mallow_none \u001b[39mand\u001b[39;00m value \u001b[39mis\u001b[39;00m \u001b[39mNone\u001b[39;00m:\n\u001b[1;32m    369\u001b[0m     \u001b[39mreturn\u001b[39;00m \u001b[39mNone\u001b[39;00m\n\u001b[0;32m--> 370\u001b[0m output \u001b[39m=\u001b[39m \u001b[39mself\u001b[39;49m\u001b[39m.\u001b[39;49m_deserialize(value, attr, data, \u001b[39m*\u001b[39;49m\u001b[39m*\u001b[39;49mkwargs)\n\u001b[1;32m    371\u001b[0m \u001b[39mself\u001b[39m\u001b[39m.\u001b[39m_validate(output)\n\u001b[1;32m    372\u001b[0m \u001b[39mreturn\u001b[39;00m output\n",
      "File \u001b[0;32m/media/data-nvme/dev/src/llm/.venv/lib/python3.10/site-packages/ludwig/schema/llms/base_model.py:73\u001b[0m, in \u001b[0;36mBaseModelDataclassField.<locals>.BaseModelField._deserialize\u001b[0;34m(self, value, attr, obj, **kwargs)\u001b[0m\n\u001b[1;32m     72\u001b[0m \u001b[39mdef\u001b[39;00m \u001b[39m_deserialize\u001b[39m(\u001b[39mself\u001b[39m, value, attr, obj, \u001b[39m*\u001b[39m\u001b[39m*\u001b[39mkwargs):\n\u001b[0;32m---> 73\u001b[0m     \u001b[39mreturn\u001b[39;00m validate(value)\n",
      "File \u001b[0;32m/media/data-nvme/dev/src/llm/.venv/lib/python3.10/site-packages/ludwig/schema/llms/base_model.py:57\u001b[0m, in \u001b[0;36mBaseModelDataclassField.<locals>.validate\u001b[0;34m(model_name)\u001b[0m\n\u001b[1;32m     55\u001b[0m         \u001b[39mreturn\u001b[39;00m model_name\n\u001b[1;32m     56\u001b[0m     \u001b[39mexcept\u001b[39;00m \u001b[39mOSError\u001b[39;00m:\n\u001b[0;32m---> 57\u001b[0m         \u001b[39mraise\u001b[39;00m ConfigValidationError(\n\u001b[1;32m     58\u001b[0m             \u001b[39mf\u001b[39m\u001b[39m\"\u001b[39m\u001b[39mSpecified base model `\u001b[39m\u001b[39m{\u001b[39;00mmodel_name\u001b[39m}\u001b[39;00m\u001b[39m` is not a valid pretrained CausalLM listed on huggingface. \u001b[39m\u001b[39m\"\u001b[39m\n\u001b[1;32m     59\u001b[0m             \u001b[39m\"\u001b[39m\u001b[39mPlease see: https://huggingface.co/models?pipeline_tag=text-generation&sort=downloads\u001b[39m\u001b[39m\"\u001b[39m\n\u001b[1;32m     60\u001b[0m         )\n\u001b[1;32m     61\u001b[0m \u001b[39mraise\u001b[39;00m ValidationError(\n\u001b[1;32m     62\u001b[0m     \u001b[39mf\u001b[39m\u001b[39m\"\u001b[39m\u001b[39m`base_model` should be a string, instead given: \u001b[39m\u001b[39m{\u001b[39;00mmodel_name\u001b[39m}\u001b[39;00m\u001b[39m. This can be a preset or any pretrained \u001b[39m\u001b[39m\"\u001b[39m\n\u001b[1;32m     63\u001b[0m     \u001b[39m\"\u001b[39m\u001b[39mCausalLM on huggingface. See: https://huggingface.co/models?pipeline_tag=text-generation&sort=downloads\u001b[39m\u001b[39m\"\u001b[39m\n\u001b[1;32m     64\u001b[0m )\n",
      "\u001b[0;31mConfigValidationError\u001b[0m: Specified base model `meta-llama/Llama-2-7b-hf` is not a valid pretrained CausalLM listed on huggingface. Please see: https://huggingface.co/models?pipeline_tag=text-generation&sort=downloads"
     ]
    }
   ],
   "source": [
    "import logging\n",
    "from ludwig.api import LudwigModel\n",
    "\n",
    "\n",
    "model = LudwigModel(config=config, logging_level=logging.INFO)\n",
    "results = model.train(dataset=\"ludwig://alpaca\")\n",
    "print(results)"
   ]
  }
 ],
 "metadata": {
  "kernelspec": {
   "display_name": ".venv",
   "language": "python",
   "name": "python3"
  },
  "language_info": {
   "codemirror_mode": {
    "name": "ipython",
    "version": 3
   },
   "file_extension": ".py",
   "mimetype": "text/x-python",
   "name": "python",
   "nbconvert_exporter": "python",
   "pygments_lexer": "ipython3",
   "version": "3.10.12"
  },
  "orig_nbformat": 4
 },
 "nbformat": 4,
 "nbformat_minor": 2
}
