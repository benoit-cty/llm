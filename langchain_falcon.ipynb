{
 "cells": [
  {
   "cell_type": "code",
   "execution_count": null,
   "metadata": {},
   "outputs": [],
   "source": []
  },
  {
   "cell_type": "markdown",
   "metadata": {},
   "source": [
    "pip install langchain ctransformers"
   ]
  },
  {
   "cell_type": "code",
   "execution_count": 2,
   "metadata": {},
   "outputs": [],
   "source": [
    "from langchain.llms import CTransformers"
   ]
  },
  {
   "cell_type": "code",
   "execution_count": 3,
   "metadata": {},
   "outputs": [
    {
     "name": "stderr",
     "output_type": "stream",
     "text": [
      "/media/data-nvme/dev/src/llm/.venv/lib/python3.10/site-packages/tqdm/auto.py:21: TqdmWarning: IProgress not found. Please update jupyter and ipywidgets. See https://ipywidgets.readthedocs.io/en/stable/user_install.html\n",
      "  from .autonotebook import tqdm as notebook_tqdm\n",
      "falcon.cpp: fallback for old file format. Loading BPE merges from tokenizer.json\n",
      "falcon.cpp: can't use mmap because tensors are not aligned; convert to new format to avoid this\n",
      "error loading model: this format is no longer supported (see https://github.com/ggerganov/llama.cpp/pull/1508)\n",
      "falcon_init_from_file: failed to load model\n"
     ]
    },
    {
     "ename": "RuntimeError",
     "evalue": "Failed to create LLM 'falcon' from '/media/NAS-Divers/dev/models/llm/falcon/Falcon-40b-Instruct.ggmlv3.q4_0.bin'.",
     "output_type": "error",
     "traceback": [
      "\u001b[0;31m---------------------------------------------------------------------------\u001b[0m",
      "\u001b[0;31mRuntimeError\u001b[0m                              Traceback (most recent call last)",
      "Cell \u001b[0;32mIn[3], line 1\u001b[0m\n\u001b[0;32m----> 1\u001b[0m llm \u001b[39m=\u001b[39m CTransformers(model\u001b[39m=\u001b[39;49m\u001b[39m'\u001b[39;49m\u001b[39m/media/NAS-Divers/dev/models/llm/falcon/Falcon-40b-Instruct.ggmlv3.q4_0.bin\u001b[39;49m\u001b[39m'\u001b[39;49m, model_type\u001b[39m=\u001b[39;49m\u001b[39m'\u001b[39;49m\u001b[39mfalcon\u001b[39;49m\u001b[39m'\u001b[39;49m)\n\u001b[1;32m      3\u001b[0m \u001b[39mprint\u001b[39m(llm(\u001b[39m'\u001b[39m\u001b[39mAI is going to\u001b[39m\u001b[39m'\u001b[39m))\n",
      "File \u001b[0;32m/media/data-nvme/dev/src/llm/.venv/lib/python3.10/site-packages/langchain/load/serializable.py:74\u001b[0m, in \u001b[0;36mSerializable.__init__\u001b[0;34m(self, **kwargs)\u001b[0m\n\u001b[1;32m     73\u001b[0m \u001b[39mdef\u001b[39;00m \u001b[39m__init__\u001b[39m(\u001b[39mself\u001b[39m, \u001b[39m*\u001b[39m\u001b[39m*\u001b[39mkwargs: Any) \u001b[39m-\u001b[39m\u001b[39m>\u001b[39m \u001b[39mNone\u001b[39;00m:\n\u001b[0;32m---> 74\u001b[0m     \u001b[39msuper\u001b[39;49m()\u001b[39m.\u001b[39;49m\u001b[39m__init__\u001b[39;49m(\u001b[39m*\u001b[39;49m\u001b[39m*\u001b[39;49mkwargs)\n\u001b[1;32m     75\u001b[0m     \u001b[39mself\u001b[39m\u001b[39m.\u001b[39m_lc_kwargs \u001b[39m=\u001b[39m kwargs\n",
      "File \u001b[0;32m/media/data-nvme/dev/src/llm/.venv/lib/python3.10/site-packages/pydantic/main.py:339\u001b[0m, in \u001b[0;36mpydantic.main.BaseModel.__init__\u001b[0;34m()\u001b[0m\n",
      "File \u001b[0;32m/media/data-nvme/dev/src/llm/.venv/lib/python3.10/site-packages/pydantic/main.py:1102\u001b[0m, in \u001b[0;36mpydantic.main.validate_model\u001b[0;34m()\u001b[0m\n",
      "File \u001b[0;32m/media/data-nvme/dev/src/llm/.venv/lib/python3.10/site-packages/langchain/llms/ctransformers.py:74\u001b[0m, in \u001b[0;36mCTransformers.validate_environment\u001b[0;34m(cls, values)\u001b[0m\n\u001b[1;32m     68\u001b[0m     \u001b[39mraise\u001b[39;00m \u001b[39mImportError\u001b[39;00m(\n\u001b[1;32m     69\u001b[0m         \u001b[39m\"\u001b[39m\u001b[39mCould not import `ctransformers` package. \u001b[39m\u001b[39m\"\u001b[39m\n\u001b[1;32m     70\u001b[0m         \u001b[39m\"\u001b[39m\u001b[39mPlease install it with `pip install ctransformers`\u001b[39m\u001b[39m\"\u001b[39m\n\u001b[1;32m     71\u001b[0m     )\n\u001b[1;32m     73\u001b[0m config \u001b[39m=\u001b[39m values[\u001b[39m\"\u001b[39m\u001b[39mconfig\u001b[39m\u001b[39m\"\u001b[39m] \u001b[39mor\u001b[39;00m {}\n\u001b[0;32m---> 74\u001b[0m values[\u001b[39m\"\u001b[39m\u001b[39mclient\u001b[39m\u001b[39m\"\u001b[39m] \u001b[39m=\u001b[39m AutoModelForCausalLM\u001b[39m.\u001b[39;49mfrom_pretrained(\n\u001b[1;32m     75\u001b[0m     values[\u001b[39m\"\u001b[39;49m\u001b[39mmodel\u001b[39;49m\u001b[39m\"\u001b[39;49m],\n\u001b[1;32m     76\u001b[0m     model_type\u001b[39m=\u001b[39;49mvalues[\u001b[39m\"\u001b[39;49m\u001b[39mmodel_type\u001b[39;49m\u001b[39m\"\u001b[39;49m],\n\u001b[1;32m     77\u001b[0m     model_file\u001b[39m=\u001b[39;49mvalues[\u001b[39m\"\u001b[39;49m\u001b[39mmodel_file\u001b[39;49m\u001b[39m\"\u001b[39;49m],\n\u001b[1;32m     78\u001b[0m     lib\u001b[39m=\u001b[39;49mvalues[\u001b[39m\"\u001b[39;49m\u001b[39mlib\u001b[39;49m\u001b[39m\"\u001b[39;49m],\n\u001b[1;32m     79\u001b[0m     \u001b[39m*\u001b[39;49m\u001b[39m*\u001b[39;49mconfig,\n\u001b[1;32m     80\u001b[0m )\n\u001b[1;32m     81\u001b[0m \u001b[39mreturn\u001b[39;00m values\n",
      "File \u001b[0;32m/media/data-nvme/dev/src/llm/.venv/lib/python3.10/site-packages/ctransformers/hub.py:157\u001b[0m, in \u001b[0;36mAutoModelForCausalLM.from_pretrained\u001b[0;34m(cls, model_path_or_repo_id, model_type, model_file, config, lib, local_files_only, **kwargs)\u001b[0m\n\u001b[1;32m    150\u001b[0m \u001b[39melif\u001b[39;00m path_type \u001b[39m==\u001b[39m \u001b[39m\"\u001b[39m\u001b[39mrepo\u001b[39m\u001b[39m\"\u001b[39m:\n\u001b[1;32m    151\u001b[0m     model_path \u001b[39m=\u001b[39m \u001b[39mcls\u001b[39m\u001b[39m.\u001b[39m_find_model_path_from_repo(\n\u001b[1;32m    152\u001b[0m         model_path_or_repo_id,\n\u001b[1;32m    153\u001b[0m         model_file,\n\u001b[1;32m    154\u001b[0m         local_files_only\u001b[39m=\u001b[39mlocal_files_only,\n\u001b[1;32m    155\u001b[0m     )\n\u001b[0;32m--> 157\u001b[0m \u001b[39mreturn\u001b[39;00m LLM(\n\u001b[1;32m    158\u001b[0m     model_path\u001b[39m=\u001b[39;49mmodel_path,\n\u001b[1;32m    159\u001b[0m     model_type\u001b[39m=\u001b[39;49mmodel_type,\n\u001b[1;32m    160\u001b[0m     config\u001b[39m=\u001b[39;49mconfig\u001b[39m.\u001b[39;49mconfig,\n\u001b[1;32m    161\u001b[0m     lib\u001b[39m=\u001b[39;49mlib,\n\u001b[1;32m    162\u001b[0m )\n",
      "File \u001b[0;32m/media/data-nvme/dev/src/llm/.venv/lib/python3.10/site-packages/ctransformers/llm.py:214\u001b[0m, in \u001b[0;36mLLM.__init__\u001b[0;34m(self, model_path, model_type, config, lib)\u001b[0m\n\u001b[1;32m    207\u001b[0m \u001b[39mself\u001b[39m\u001b[39m.\u001b[39m_llm \u001b[39m=\u001b[39m \u001b[39mself\u001b[39m\u001b[39m.\u001b[39m_lib\u001b[39m.\u001b[39mctransformers_llm_create(\n\u001b[1;32m    208\u001b[0m     model_path\u001b[39m.\u001b[39mencode(),\n\u001b[1;32m    209\u001b[0m     model_type\u001b[39m.\u001b[39mencode(),\n\u001b[1;32m    210\u001b[0m     config\u001b[39m.\u001b[39mcontext_length,\n\u001b[1;32m    211\u001b[0m     config\u001b[39m.\u001b[39mgpu_layers,\n\u001b[1;32m    212\u001b[0m )\n\u001b[1;32m    213\u001b[0m \u001b[39mif\u001b[39;00m \u001b[39mself\u001b[39m\u001b[39m.\u001b[39m_llm \u001b[39mis\u001b[39;00m \u001b[39mNone\u001b[39;00m:\n\u001b[0;32m--> 214\u001b[0m     \u001b[39mraise\u001b[39;00m \u001b[39mRuntimeError\u001b[39;00m(\n\u001b[1;32m    215\u001b[0m         \u001b[39mf\u001b[39m\u001b[39m\"\u001b[39m\u001b[39mFailed to create LLM \u001b[39m\u001b[39m'\u001b[39m\u001b[39m{\u001b[39;00mmodel_type\u001b[39m}\u001b[39;00m\u001b[39m'\u001b[39m\u001b[39m from \u001b[39m\u001b[39m'\u001b[39m\u001b[39m{\u001b[39;00mmodel_path\u001b[39m}\u001b[39;00m\u001b[39m'\u001b[39m\u001b[39m.\u001b[39m\u001b[39m\"\u001b[39m\n\u001b[1;32m    216\u001b[0m     )\n",
      "\u001b[0;31mRuntimeError\u001b[0m: Failed to create LLM 'falcon' from '/media/NAS-Divers/dev/models/llm/falcon/Falcon-40b-Instruct.ggmlv3.q4_0.bin'."
     ]
    }
   ],
   "source": [
    "llm = CTransformers(model='/media/NAS-Divers/dev/models/llm/falcon/Falcon-40b-Instruct.ggmlv3.q4_0.bin', model_type='falcon')\n",
    "\n",
    "print(llm('AI is going to'))"
   ]
  },
  {
   "cell_type": "code",
   "execution_count": null,
   "metadata": {},
   "outputs": [],
   "source": []
  }
 ],
 "metadata": {
  "kernelspec": {
   "display_name": ".venv",
   "language": "python",
   "name": "python3"
  },
  "language_info": {
   "codemirror_mode": {
    "name": "ipython",
    "version": 3
   },
   "file_extension": ".py",
   "mimetype": "text/x-python",
   "name": "python",
   "nbconvert_exporter": "python",
   "pygments_lexer": "ipython3",
   "version": "3.10.12"
  },
  "orig_nbformat": 4
 },
 "nbformat": 4,
 "nbformat_minor": 2
}
